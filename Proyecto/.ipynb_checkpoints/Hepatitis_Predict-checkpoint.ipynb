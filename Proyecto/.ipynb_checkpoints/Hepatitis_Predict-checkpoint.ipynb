{
 "cells": [
  {
   "cell_type": "markdown",
   "id": "bdc8b738-5be2-4453-aa87-1ab9ee401976",
   "metadata": {},
   "source": [
    "Attribute information:\n",
    "\n",
    "     1. Class: DIE, LIVE\n",
    "     \n",
    "     2. AGE: 10, 20, 30, 40, 50, 60, 70, 80\n",
    "     \n",
    "     3. SEX: male, female\n",
    "     \n",
    "     4. STEROID: no, yes\n",
    "     \n",
    "     5. ANTIVIRALS: no, yes\n",
    "     \n",
    "     6. FATIGUE: no, yes\n",
    "     \n",
    "     7. MALAISE: no, yes\n",
    "     \n",
    "     8. ANOREXIA: no, yes\n",
    "     \n",
    "     9. LIVER BIG: no, yes\n",
    "     \n",
    "    10. LIVER FIRM: no, yes\n",
    "    \n",
    "    11. SPLEEN PALPABLE: no, yes\n",
    "    \n",
    "    12. SPIDERS: no, yes\n",
    "    \n",
    "    13. ASCITES: no, yes\n",
    "    \n",
    "    14. VARICES: no, yes\n",
    "    \n",
    "    15. BILIRUBIN: 0.39, 0.80, 1.20, 2.00, 3.00, 4.00\n",
    "        -- see the note below\n",
    "        \n",
    "    16. ALK PHOSPHATE: 33, 80, 120, 160, 200, 250\n",
    "    \n",
    "    17. SGOT: 13, 100, 200, 300, 400, 500, \n",
    "    \n",
    "    18. ALBUMIN: 2.1, 3.0, 3.8, 4.5, 5.0, 6.0\n",
    "    \n",
    "    19. PROTIME: 10, 20, 30, 40, 50, 60, 70, 80, 90\n",
    "    \n",
    "    20. HISTOLOGY: no, yes"
   ]
  },
  {
   "cell_type": "code",
   "execution_count": 1,
   "id": "304c0ee1-b145-49b1-b674-00fb9edbd8be",
   "metadata": {},
   "outputs": [],
   "source": [
    "import pandas as pd\n",
    "import numpy as np\n",
    "\n",
    "import matplotlib.pyplot as plt\n",
    "import seaborn as sns\n",
    "\n",
    "from sklearn.preprocessing import StandardScaler, LabelEncoder,MinMaxScaler\n",
    "from sklearn.metrics import accuracy_score, confusion_matrix, mean_squared_error, classification_report,roc_curve, roc_auc_score\n",
    "from sklearn.model_selection import train_test_split\n",
    "from sklearn.linear_model import ElasticNetCV, ElasticNet,LogisticRegression\n",
    "from sklearn.decomposition import PCA\n",
    "\n",
    "\n",
    "\n"
   ]
  },
  {
   "cell_type": "code",
   "execution_count": 2,
   "id": "63fda322-a1eb-47d9-9e08-34742c012d62",
   "metadata": {},
   "outputs": [
    {
     "name": "stdout",
     "output_type": "stream",
     "text": [
      "Index(['Class', 'AGE', 'SEX', 'STEROID', 'ANTIVIRALS', 'FATIGUE', 'MALAISE',\n",
      "       'ANOREXIA', 'LIVER BIG', 'LIVER FIRM', 'SPLEEN PALPABLE', 'SPIDERS',\n",
      "       'ASCITES', 'VARICES', 'BILIRUBIN', 'ALK PHOSPHATE', 'SGOT', 'ALBUMIN',\n",
      "       'PROTIME', 'HISTOLOGY'],\n",
      "      dtype='object')\n",
      "   Class  AGE  SEX STEROID  ANTIVIRALS FATIGUE MALAISE ANOREXIA LIVER BIG  \\\n",
      "0      2   30    2       1           2       2       2        2         1   \n",
      "1      2   50    1       1           2       1       2        2         1   \n",
      "2      2   78    1       2           2       1       2        2         2   \n",
      "3      2   31    1       ?           1       2       2        2         2   \n",
      "4      2   34    1       2           2       2       2        2         2   \n",
      "5      2   34    1       2           2       2       2        2         2   \n",
      "6      1   51    1       1           2       1       2        1         2   \n",
      "7      2   23    1       2           2       2       2        2         2   \n",
      "8      2   39    1       2           2       1       2        2         2   \n",
      "9      2   30    1       2           2       2       2        2         2   \n",
      "\n",
      "  LIVER FIRM SPLEEN PALPABLE SPIDERS ASCITES VARICES BILIRUBIN ALK PHOSPHATE  \\\n",
      "0          2               2       2       2       2      1.00            85   \n",
      "1          2               2       2       2       2      0.90           135   \n",
      "2          2               2       2       2       2      0.70            96   \n",
      "3          2               2       2       2       2      0.70            46   \n",
      "4          2               2       2       2       2      1.00             ?   \n",
      "5          2               2       2       2       2      0.90            95   \n",
      "6          2               1       1       2       2         ?             ?   \n",
      "7          2               2       2       2       2      1.00             ?   \n",
      "8          1               2       2       2       2      0.70             ?   \n",
      "9          2               2       2       2       2      1.00             ?   \n",
      "\n",
      "  SGOT ALBUMIN PROTIME  HISTOLOGY  \n",
      "0   18     4.0       ?          1  \n",
      "1   42     3.5       ?          1  \n",
      "2   32     4.0       ?          1  \n",
      "3   52     4.0      80          1  \n",
      "4  200     4.0       ?          1  \n",
      "5   28     4.0      75          1  \n",
      "6    ?       ?       ?          1  \n",
      "7    ?       ?       ?          1  \n",
      "8   48     4.4       ?          1  \n",
      "9  120     3.9       ?          1  \n"
     ]
    }
   ],
   "source": [
    "column_names = [\n",
    "    'Class', \n",
    "    'AGE', \n",
    "    'SEX', \n",
    "    'STEROID', \n",
    "    'ANTIVIRALS', \n",
    "    'FATIGUE', \n",
    "    'MALAISE', \n",
    "    'ANOREXIA', \n",
    "    'LIVER BIG', \n",
    "    'LIVER FIRM', \n",
    "    'SPLEEN PALPABLE', \n",
    "    'SPIDERS', \n",
    "    'ASCITES', \n",
    "    'VARICES', \n",
    "    'BILIRUBIN', \n",
    "    'ALK PHOSPHATE', \n",
    "    'SGOT', \n",
    "    'ALBUMIN', \n",
    "    'PROTIME', \n",
    "    'HISTOLOGY'\n",
    "]\n",
    "df_hepatitis = pd.read_csv('hepatitis/hepatitis.data', header=None, names=column_names)\n",
    "\n",
    "print(df_hepatitis.columns)\n",
    "print(df_hepatitis.head(10))"
   ]
  },
  {
   "cell_type": "code",
   "execution_count": 3,
   "id": "e35f7588-e211-459d-8c21-2da96b16e66b",
   "metadata": {},
   "outputs": [
    {
     "name": "stdout",
     "output_type": "stream",
     "text": [
      "Class              0\n",
      "AGE                0\n",
      "SEX                0\n",
      "STEROID            0\n",
      "ANTIVIRALS         0\n",
      "FATIGUE            0\n",
      "MALAISE            0\n",
      "ANOREXIA           0\n",
      "LIVER BIG          0\n",
      "LIVER FIRM         0\n",
      "SPLEEN PALPABLE    0\n",
      "SPIDERS            0\n",
      "ASCITES            0\n",
      "VARICES            0\n",
      "BILIRUBIN          0\n",
      "ALK PHOSPHATE      0\n",
      "SGOT               0\n",
      "ALBUMIN            0\n",
      "PROTIME            0\n",
      "HISTOLOGY          0\n",
      "dtype: int64\n"
     ]
    }
   ],
   "source": [
    "print(df_hepatitis.isna().sum())"
   ]
  },
  {
   "cell_type": "markdown",
   "id": "abfde0b1-b65b-4fe4-9c69-a3137a307e2b",
   "metadata": {
    "jp-MarkdownHeadingCollapsed": true
   },
   "source": [
    "# Normalizacion de Variables"
   ]
  },
  {
   "cell_type": "markdown",
   "id": "1e21a034-6876-427e-8309-c21c0af72e1f",
   "metadata": {},
   "source": [
    "## Class"
   ]
  },
  {
   "cell_type": "code",
   "execution_count": 4,
   "id": "9685561e-3e4c-4935-bd02-7340e3126aa3",
   "metadata": {},
   "outputs": [
    {
     "data": {
      "text/plain": [
       "Class\n",
       "1    123\n",
       "0     32\n",
       "Name: count, dtype: int64"
      ]
     },
     "execution_count": 4,
     "metadata": {},
     "output_type": "execute_result"
    }
   ],
   "source": [
    "df_hepatitis['Class'] = df_hepatitis['Class'].replace(1,0) #0 DIE\n",
    "df_hepatitis['Class'] = df_hepatitis['Class'].replace(2,1) #1 Survived\n",
    "df_hepatitis['Class'].value_counts()"
   ]
  },
  {
   "cell_type": "markdown",
   "id": "60712626-465e-4614-9cf2-75df1641482e",
   "metadata": {},
   "source": [
    "## Age"
   ]
  },
  {
   "cell_type": "code",
   "execution_count": 5,
   "id": "9ddd2850-09fc-477d-b24b-5ba2d6d10d13",
   "metadata": {},
   "outputs": [
    {
     "name": "stdout",
     "output_type": "stream",
     "text": [
      "0      30\n",
      "1      50\n",
      "2      78\n",
      "3      31\n",
      "4      34\n",
      "       ..\n",
      "150    46\n",
      "151    44\n",
      "152    61\n",
      "153    53\n",
      "154    43\n",
      "Name: AGE, Length: 155, dtype: int64\n",
      "41.2\n",
      "int64\n"
     ]
    }
   ],
   "source": [
    "print(df_hepatitis['AGE'])\n",
    "print(df_hepatitis['AGE'].mean())\n",
    "print(df_hepatitis['AGE'].dtype)"
   ]
  },
  {
   "cell_type": "code",
   "execution_count": 6,
   "id": "a874ccdc-c1dc-45e2-9b3e-87c0daa155a0",
   "metadata": {},
   "outputs": [
    {
     "data": {
      "image/png": "[encoded data removed]",
      "text/plain": [
       "<Figure size 640x480 with 1 Axes>"
      ]
     },
     "metadata": {},
     "output_type": "display_data"
    }
   ],
   "source": [
    "df_hepatitis['AGE'].hist(bins=10)\n",
    "plt.xlabel('Edad')\n",
    "plt.ylabel('Frecuencia')\n",
    "plt.title('Histograma de AGE')\n",
    "plt.show()"
   ]
  },
  {
   "cell_type": "code",
   "execution_count": 7,
   "id": "66601609-b137-4253-9cab-3bb0467f86f6",
   "metadata": {},
   "outputs": [],
   "source": [
    "scaler = StandardScaler()\n",
    "df_hepatitis['AGE'] = scaler.fit_transform(df_hepatitis[['AGE']])"
   ]
  },
  {
   "cell_type": "code",
   "execution_count": 8,
   "id": "0147ec42-387c-479d-9f21-d6511da4d597",
   "metadata": {},
   "outputs": [
    {
     "data": {
      "image/png": "[encoded data removed]",
      "text/plain": [
       "<Figure size 640x480 with 1 Axes>"
      ]
     },
     "metadata": {},
     "output_type": "display_data"
    }
   ],
   "source": [
    "df_hepatitis['AGE'].hist(bins=10)\n",
    "plt.xlabel('Edad')\n",
    "plt.ylabel('Frecuencia')\n",
    "plt.title('Histograma de AGE')\n",
    "plt.show()"
   ]
  },
  {
   "cell_type": "markdown",
   "id": "af713eec-de56-487b-9832-d59f16fcdf77",
   "metadata": {},
   "source": [
    "## SEX"
   ]
  },
  {
   "cell_type": "code",
   "execution_count": 9,
   "id": "f96b124a-13f2-4f7f-b68e-33153ce53fe2",
   "metadata": {},
   "outputs": [
    {
     "name": "stdout",
     "output_type": "stream",
     "text": [
      "0      2\n",
      "1      1\n",
      "2      1\n",
      "3      1\n",
      "4      1\n",
      "      ..\n",
      "150    1\n",
      "151    1\n",
      "152    1\n",
      "153    2\n",
      "154    1\n",
      "Name: SEX, Length: 155, dtype: int64\n"
     ]
    }
   ],
   "source": [
    "print(df_hepatitis['SEX'])"
   ]
  },
  {
   "cell_type": "code",
   "execution_count": 10,
   "id": "f258693f-368a-421d-9b7b-c6649e1e1978",
   "metadata": {},
   "outputs": [
    {
     "data": {
      "text/plain": [
       "SEX\n",
       "0    139\n",
       "1     16\n",
       "Name: count, dtype: int64"
      ]
     },
     "execution_count": 10,
     "metadata": {},
     "output_type": "execute_result"
    }
   ],
   "source": [
    "df_hepatitis['SEX'] = df_hepatitis['SEX'].replace(1,0) #0 Male\n",
    "df_hepatitis['SEX'] = df_hepatitis['SEX'].replace(2,1) #1 Female\n",
    "df_hepatitis['SEX'].value_counts()"
   ]
  },
  {
   "cell_type": "code",
   "execution_count": null,
   "id": "296ce5c8-962c-44b0-a89b-9748566aeda0",
   "metadata": {},
   "outputs": [],
   "source": []
  },
  {
   "cell_type": "markdown",
   "id": "5d254a3c-c563-4ae3-9ba9-502df35e0007",
   "metadata": {},
   "source": [
    "## STEROID"
   ]
  },
  {
   "cell_type": "code",
   "execution_count": 11,
   "id": "953ecefa-9c1f-402c-8e57-d2c2ffaf215f",
   "metadata": {},
   "outputs": [
    {
     "data": {
      "text/plain": [
       "STEROID\n",
       "1    79\n",
       "0    76\n",
       "Name: count, dtype: int64"
      ]
     },
     "execution_count": 11,
     "metadata": {},
     "output_type": "execute_result"
    }
   ],
   "source": [
    "df_hepatitis['STEROID'] = df_hepatitis['STEROID'].replace('?',2) #Reemplazamos por la moda\n",
    "df_hepatitis['STEROID'] = df_hepatitis['STEROID'].astype(int) # Pasamos de Object a interger\n",
    "\n",
    "df_hepatitis['STEROID'] = df_hepatitis['STEROID'].replace(1,0) #0 NO\n",
    "df_hepatitis['STEROID'] = df_hepatitis['STEROID'].replace(2,1) #1 YES\n",
    "df_hepatitis['STEROID'].value_counts()\n"
   ]
  },
  {
   "cell_type": "markdown",
   "id": "2a8974c7-9c01-4677-a4c7-ac80c6c4c37c",
   "metadata": {},
   "source": [
    "## FATIGUE"
   ]
  },
  {
   "cell_type": "code",
   "execution_count": 12,
   "id": "d59936c6-b8dd-45c3-89f5-6f745a13e237",
   "metadata": {},
   "outputs": [
    {
     "data": {
      "text/plain": [
       "FATIGUE\n",
       "0    101\n",
       "1     54\n",
       "Name: count, dtype: int64"
      ]
     },
     "execution_count": 12,
     "metadata": {},
     "output_type": "execute_result"
    }
   ],
   "source": [
    "df_hepatitis['FATIGUE'] = df_hepatitis['FATIGUE'].replace('?',1) #Reemplazamos por la moda\n",
    "df_hepatitis['FATIGUE'] = df_hepatitis['FATIGUE'].astype(int) # Pasamos de Object a interger\n",
    "\n",
    "df_hepatitis['FATIGUE'] = df_hepatitis['FATIGUE'].replace(1,0) #0 NO\n",
    "df_hepatitis['FATIGUE'] = df_hepatitis['FATIGUE'].replace(2,1) #1 YES\n",
    "df_hepatitis['FATIGUE'].value_counts()"
   ]
  },
  {
   "cell_type": "markdown",
   "id": "448aac7f-51df-4e07-b6c9-bf1deb330bf5",
   "metadata": {},
   "source": [
    "## MALAISE"
   ]
  },
  {
   "cell_type": "code",
   "execution_count": 13,
   "id": "ea4d7799-2d87-4ffa-b449-087993d59d3e",
   "metadata": {},
   "outputs": [
    {
     "data": {
      "text/plain": [
       "MALAISE\n",
       "2    93\n",
       "1    61\n",
       "?     1\n",
       "Name: count, dtype: int64"
      ]
     },
     "execution_count": 13,
     "metadata": {},
     "output_type": "execute_result"
    }
   ],
   "source": [
    "df_hepatitis['MALAISE'].value_counts()"
   ]
  },
  {
   "cell_type": "code",
   "execution_count": 14,
   "id": "07c17c3a-2966-4eff-8611-75aca1a29597",
   "metadata": {},
   "outputs": [
    {
     "data": {
      "text/plain": [
       "MALAISE\n",
       "1    94\n",
       "0    61\n",
       "Name: count, dtype: int64"
      ]
     },
     "execution_count": 14,
     "metadata": {},
     "output_type": "execute_result"
    }
   ],
   "source": [
    "df_hepatitis['MALAISE'] = df_hepatitis['MALAISE'].replace('?',2) #Reemplazamos por la moda\n",
    "df_hepatitis['MALAISE'] = df_hepatitis['MALAISE'].astype(int) # Pasamos de Object a interger\n",
    "\n",
    "df_hepatitis['MALAISE'] = df_hepatitis['MALAISE'].replace(1,0) #0 NO\n",
    "df_hepatitis['MALAISE'] = df_hepatitis['MALAISE'].replace(2,1) #1 YES\n",
    "df_hepatitis['MALAISE'].value_counts()"
   ]
  },
  {
   "cell_type": "markdown",
   "id": "c1b14acf-e171-4311-9be6-2206027c650d",
   "metadata": {},
   "source": [
    "## ANOREXIA"
   ]
  },
  {
   "cell_type": "code",
   "execution_count": 15,
   "id": "5d7daf6b-4610-4c86-91d4-415ba908c959",
   "metadata": {},
   "outputs": [
    {
     "data": {
      "text/plain": [
       "ANOREXIA\n",
       "2    122\n",
       "1     32\n",
       "?      1\n",
       "Name: count, dtype: int64"
      ]
     },
     "execution_count": 15,
     "metadata": {},
     "output_type": "execute_result"
    }
   ],
   "source": [
    "df_hepatitis['ANOREXIA'].value_counts()"
   ]
  },
  {
   "cell_type": "code",
   "execution_count": 16,
   "id": "806fbad5-dafc-470f-87db-79bd2bfe3c30",
   "metadata": {},
   "outputs": [
    {
     "data": {
      "text/plain": [
       "ANOREXIA\n",
       "1    123\n",
       "0     32\n",
       "Name: count, dtype: int64"
      ]
     },
     "execution_count": 16,
     "metadata": {},
     "output_type": "execute_result"
    }
   ],
   "source": [
    "df_hepatitis['ANOREXIA'] = df_hepatitis['ANOREXIA'].replace('?',2) #Reemplazamos por la moda\n",
    "df_hepatitis['ANOREXIA'] = df_hepatitis['ANOREXIA'].astype(int) # Pasamos de Object a interger\n",
    "\n",
    "df_hepatitis['ANOREXIA'] = df_hepatitis['ANOREXIA'].replace(1,0) #0 NO\n",
    "df_hepatitis['ANOREXIA'] = df_hepatitis['ANOREXIA'].replace(2,1) #1 YES\n",
    "df_hepatitis['ANOREXIA'].value_counts()"
   ]
  },
  {
   "cell_type": "markdown",
   "id": "8c7dbb45-e385-4334-b355-b082f919e471",
   "metadata": {},
   "source": [
    "## LIVER BIG"
   ]
  },
  {
   "cell_type": "code",
   "execution_count": 17,
   "id": "8d357a02-5d1d-45ab-8526-0fc230192dab",
   "metadata": {},
   "outputs": [
    {
     "data": {
      "text/plain": [
       "LIVER BIG\n",
       "2    120\n",
       "1     25\n",
       "?     10\n",
       "Name: count, dtype: int64"
      ]
     },
     "execution_count": 17,
     "metadata": {},
     "output_type": "execute_result"
    }
   ],
   "source": [
    "df_hepatitis['LIVER BIG'].value_counts()"
   ]
  },
  {
   "cell_type": "code",
   "execution_count": 18,
   "id": "3af1f468-e6b0-4358-8698-91f6bdcb8ec3",
   "metadata": {},
   "outputs": [
    {
     "data": {
      "text/plain": [
       "LIVER BIG\n",
       "1    130\n",
       "0     25\n",
       "Name: count, dtype: int64"
      ]
     },
     "execution_count": 18,
     "metadata": {},
     "output_type": "execute_result"
    }
   ],
   "source": [
    "df_hepatitis['LIVER BIG'] = df_hepatitis['LIVER BIG'].replace('?',2) #Reemplazamos por la moda\n",
    "df_hepatitis['LIVER BIG'] = df_hepatitis['LIVER BIG'].astype(int) # Pasamos de Object a interger\n",
    "\n",
    "df_hepatitis['LIVER BIG'] = df_hepatitis['LIVER BIG'].replace(1,0) #0 NO\n",
    "df_hepatitis['LIVER BIG'] = df_hepatitis['LIVER BIG'].replace(2,1) #1 YES\n",
    "df_hepatitis['LIVER BIG'].value_counts()"
   ]
  },
  {
   "cell_type": "markdown",
   "id": "6938926f-013f-4496-bf9e-0782c7922cb9",
   "metadata": {},
   "source": [
    "## LIVER FIRM"
   ]
  },
  {
   "cell_type": "code",
   "execution_count": 19,
   "id": "98f6f31a-4e44-4658-b9a8-91902a15374e",
   "metadata": {},
   "outputs": [
    {
     "data": {
      "text/plain": [
       "LIVER FIRM\n",
       "2    84\n",
       "1    60\n",
       "?    11\n",
       "Name: count, dtype: int64"
      ]
     },
     "execution_count": 19,
     "metadata": {},
     "output_type": "execute_result"
    }
   ],
   "source": [
    "df_hepatitis['LIVER FIRM'].value_counts()"
   ]
  },
  {
   "cell_type": "code",
   "execution_count": 20,
   "id": "726d2fff-9584-4888-85ea-2f9524377710",
   "metadata": {},
   "outputs": [
    {
     "data": {
      "text/plain": [
       "LIVER FIRM\n",
       "1    95\n",
       "0    60\n",
       "Name: count, dtype: int64"
      ]
     },
     "execution_count": 20,
     "metadata": {},
     "output_type": "execute_result"
    }
   ],
   "source": [
    "df_hepatitis['LIVER FIRM'] = df_hepatitis['LIVER FIRM'].replace('?',2) #Reemplazamos por la moda\n",
    "df_hepatitis['LIVER FIRM'] = df_hepatitis['LIVER FIRM'].astype(int) # Pasamos de Object a interger\n",
    "\n",
    "df_hepatitis['LIVER FIRM'] = df_hepatitis['LIVER FIRM'].replace(1,0) #0 NO\n",
    "df_hepatitis['LIVER FIRM'] = df_hepatitis['LIVER FIRM'].replace(2,1) #1 YES\n",
    "df_hepatitis['LIVER FIRM'].value_counts()"
   ]
  },
  {
   "cell_type": "markdown",
   "id": "23f12d37-acad-41d7-84a6-40d12cf49003",
   "metadata": {},
   "source": [
    "## SPLEEN PALPABLE"
   ]
  },
  {
   "cell_type": "code",
   "execution_count": 21,
   "id": "b5a210ee-0a90-461c-8433-d1c5dd6e6332",
   "metadata": {},
   "outputs": [
    {
     "data": {
      "text/plain": [
       "SPLEEN PALPABLE\n",
       "2    120\n",
       "1     30\n",
       "?      5\n",
       "Name: count, dtype: int64"
      ]
     },
     "execution_count": 21,
     "metadata": {},
     "output_type": "execute_result"
    }
   ],
   "source": [
    "df_hepatitis['SPLEEN PALPABLE'].value_counts()"
   ]
  },
  {
   "cell_type": "code",
   "execution_count": 22,
   "id": "f7e366c0-5faf-4de0-8f06-c138640bfd98",
   "metadata": {},
   "outputs": [
    {
     "data": {
      "text/plain": [
       "SPLEEN PALPABLE\n",
       "1    125\n",
       "0     30\n",
       "Name: count, dtype: int64"
      ]
     },
     "execution_count": 22,
     "metadata": {},
     "output_type": "execute_result"
    }
   ],
   "source": [
    "df_hepatitis['SPLEEN PALPABLE'] = df_hepatitis['SPLEEN PALPABLE'].replace('?',2) #Reemplazamos por la moda\n",
    "df_hepatitis['SPLEEN PALPABLE'] = df_hepatitis['SPLEEN PALPABLE'].astype(int) # Pasamos de Object a interger\n",
    "\n",
    "df_hepatitis['SPLEEN PALPABLE'] = df_hepatitis['SPLEEN PALPABLE'].replace(1,0) #0 NO\n",
    "df_hepatitis['SPLEEN PALPABLE'] = df_hepatitis['SPLEEN PALPABLE'].replace(2,1) #1 YES\n",
    "df_hepatitis['SPLEEN PALPABLE'].value_counts()"
   ]
  },
  {
   "cell_type": "markdown",
   "id": "268ce8e3-d48f-4f3c-b2fe-2c3dcb12fb50",
   "metadata": {},
   "source": [
    "## SPIDERS"
   ]
  },
  {
   "cell_type": "code",
   "execution_count": 23,
   "id": "6b51158b-cfc8-46b7-910b-8eaef846b474",
   "metadata": {},
   "outputs": [
    {
     "data": {
      "text/plain": [
       "SPIDERS\n",
       "2    99\n",
       "1    51\n",
       "?     5\n",
       "Name: count, dtype: int64"
      ]
     },
     "execution_count": 23,
     "metadata": {},
     "output_type": "execute_result"
    }
   ],
   "source": [
    "df_hepatitis['SPIDERS'].value_counts()"
   ]
  },
  {
   "cell_type": "code",
   "execution_count": 24,
   "id": "b6328335-56ba-427c-9078-e8bfb40855bc",
   "metadata": {},
   "outputs": [
    {
     "data": {
      "text/plain": [
       "SPIDERS\n",
       "1    104\n",
       "0     51\n",
       "Name: count, dtype: int64"
      ]
     },
     "execution_count": 24,
     "metadata": {},
     "output_type": "execute_result"
    }
   ],
   "source": [
    "df_hepatitis['SPIDERS'] = df_hepatitis['SPIDERS'].replace('?',2) #Reemplazamos por la moda\n",
    "df_hepatitis['SPIDERS'] = df_hepatitis['SPIDERS'].astype(int) # Pasamos de Object a interger\n",
    "\n",
    "df_hepatitis['SPIDERS'] = df_hepatitis['SPIDERS'].replace(1,0) #0 NO\n",
    "df_hepatitis['SPIDERS'] = df_hepatitis['SPIDERS'].replace(2,1) #1 YES\n",
    "df_hepatitis['SPIDERS'].value_counts()"
   ]
  },
  {
   "cell_type": "markdown",
   "id": "b3ef7a35-1847-43f8-88bd-0674446a668d",
   "metadata": {},
   "source": [
    "## ASCITES"
   ]
  },
  {
   "cell_type": "code",
   "execution_count": 25,
   "id": "090ecf27-b10e-462a-9b30-4207ffb9376a",
   "metadata": {},
   "outputs": [
    {
     "data": {
      "text/plain": [
       "ASCITES\n",
       "2    130\n",
       "1     20\n",
       "?      5\n",
       "Name: count, dtype: int64"
      ]
     },
     "execution_count": 25,
     "metadata": {},
     "output_type": "execute_result"
    }
   ],
   "source": [
    "df_hepatitis['ASCITES'].value_counts()"
   ]
  },
  {
   "cell_type": "code",
   "execution_count": 26,
   "id": "4ff6bf26-3e41-4ec6-b5ca-0624c72c073a",
   "metadata": {},
   "outputs": [
    {
     "data": {
      "text/plain": [
       "ASCITES\n",
       "1    135\n",
       "0     20\n",
       "Name: count, dtype: int64"
      ]
     },
     "execution_count": 26,
     "metadata": {},
     "output_type": "execute_result"
    }
   ],
   "source": [
    "df_hepatitis['ASCITES'] = df_hepatitis['ASCITES'].replace('?',2) #Reemplazamos por la moda\n",
    "df_hepatitis['ASCITES'] = df_hepatitis['ASCITES'].astype(int) # Pasamos de Object a interger\n",
    "\n",
    "df_hepatitis['ASCITES'] = df_hepatitis['ASCITES'].replace(1,0) #0 NO\n",
    "df_hepatitis['ASCITES'] = df_hepatitis['ASCITES'].replace(2,1) #1 YES\n",
    "df_hepatitis['ASCITES'].value_counts()"
   ]
  },
  {
   "cell_type": "markdown",
   "id": "0e6ca755-d40b-467d-8e30-e71071da83e7",
   "metadata": {},
   "source": [
    "## VARICES"
   ]
  },
  {
   "cell_type": "code",
   "execution_count": 27,
   "id": "2224ee60-5b2e-41c0-afdf-01a4414e1fdc",
   "metadata": {},
   "outputs": [
    {
     "data": {
      "text/plain": [
       "VARICES\n",
       "2    132\n",
       "1     18\n",
       "?      5\n",
       "Name: count, dtype: int64"
      ]
     },
     "execution_count": 27,
     "metadata": {},
     "output_type": "execute_result"
    }
   ],
   "source": [
    "df_hepatitis['VARICES'].value_counts()"
   ]
  },
  {
   "cell_type": "code",
   "execution_count": 28,
   "id": "70ecb8e7-186f-460a-9387-ed968ef0bb87",
   "metadata": {},
   "outputs": [
    {
     "data": {
      "text/plain": [
       "VARICES\n",
       "1    137\n",
       "0     18\n",
       "Name: count, dtype: int64"
      ]
     },
     "execution_count": 28,
     "metadata": {},
     "output_type": "execute_result"
    }
   ],
   "source": [
    "df_hepatitis['VARICES'] = df_hepatitis['VARICES'].replace('?',2) #Reemplazamos por la moda\n",
    "df_hepatitis['VARICES'] = df_hepatitis['VARICES'].astype(int) # Pasamos de Object a interger\n",
    "\n",
    "df_hepatitis['VARICES'] = df_hepatitis['VARICES'].replace(1,0) #0 NO\n",
    "df_hepatitis['VARICES'] = df_hepatitis['VARICES'].replace(2,1) #1 YES\n",
    "df_hepatitis['VARICES'].value_counts()"
   ]
  },
  {
   "cell_type": "markdown",
   "id": "2c61b148-d494-4626-b15e-fcb4f733cea6",
   "metadata": {},
   "source": [
    "## BILIRUBIN"
   ]
  },
  {
   "cell_type": "code",
   "execution_count": 29,
   "id": "c7b89c06-1dcc-4984-a7ed-ec22fe5974ca",
   "metadata": {},
   "outputs": [
    {
     "data": {
      "text/plain": [
       "BILIRUBIN\n",
       "1.00    29\n",
       "0.70    23\n",
       "0.90    13\n",
       "0.60    10\n",
       "0.80    10\n",
       "1.20     8\n",
       "1.50     7\n",
       "?        6\n",
       "1.30     6\n",
       "4.60     4\n",
       "2.00     4\n",
       "1.60     3\n",
       "2.30     3\n",
       "1.70     3\n",
       "0.50     2\n",
       "1.40     2\n",
       "0.40     2\n",
       "2.80     2\n",
       "3.20     2\n",
       "1.90     1\n",
       "3.90     1\n",
       "8.00     1\n",
       "4.20     1\n",
       "2.90     1\n",
       "1.10     1\n",
       "3.50     1\n",
       "2.40     1\n",
       "4.80     1\n",
       "3.00     1\n",
       "2.50     1\n",
       "4.10     1\n",
       "1.80     1\n",
       "0.30     1\n",
       "2.20     1\n",
       "7.60     1\n",
       "Name: count, dtype: int64"
      ]
     },
     "execution_count": 29,
     "metadata": {},
     "output_type": "execute_result"
    }
   ],
   "source": [
    "df_hepatitis['BILIRUBIN'].value_counts()"
   ]
  },
  {
   "cell_type": "code",
   "execution_count": 30,
   "id": "ceacfb8b-bbc6-46d1-ae2f-745069b48694",
   "metadata": {},
   "outputs": [
    {
     "name": "stdout",
     "output_type": "stream",
     "text": [
      "1.0\n"
     ]
    },
    {
     "name": "stderr",
     "output_type": "stream",
     "text": [
      "C:\\Users\\marco\\AppData\\Local\\Temp\\ipykernel_51984\\105647186.py:4: SettingWithCopyWarning: \n",
      "A value is trying to be set on a copy of a slice from a DataFrame.\n",
      "Try using .loc[row_indexer,col_indexer] = value instead\n",
      "\n",
      "See the caveats in the documentation: https://pandas.pydata.org/pandas-docs/stable/user_guide/indexing.html#returning-a-view-versus-a-copy\n",
      "  df_bilirubin['BILIRUBIN'] = df_bilirubin['BILIRUBIN'].astype(float) # Pasamos de Object a interger\n"
     ]
    }
   ],
   "source": [
    "df_bilirubin = df_hepatitis\n",
    "df_bilirubin = df_bilirubin[df_bilirubin['BILIRUBIN'] != '?']\n",
    "\n",
    "df_bilirubin['BILIRUBIN'] = df_bilirubin['BILIRUBIN'].astype(float) # Pasamos de Object a interger\n",
    "\n",
    "mode_bilirubin = df_bilirubin['BILIRUBIN'].mode()\n",
    "print(mode_bilirubin[0])\n",
    "#df_hepatitis['BILIRUBIN'] =df_hepatitis['BILIRUBIN'].replace('?', mean_bilirubin) "
   ]
  },
  {
   "cell_type": "code",
   "execution_count": 31,
   "id": "b1676b7d-9d37-40ce-9576-0e3e2617ddda",
   "metadata": {},
   "outputs": [],
   "source": [
    "df_hepatitis['BILIRUBIN'] = df_hepatitis['BILIRUBIN'].replace('?',mode_bilirubin[0]) #Reemplazamos por la moda\n",
    "df_hepatitis['BILIRUBIN'] = df_hepatitis['BILIRUBIN'].astype(float) # Pasamos de Object a interger"
   ]
  },
  {
   "cell_type": "code",
   "execution_count": 32,
   "id": "56f77960-aae7-4094-bb7b-c30910eefee2",
   "metadata": {},
   "outputs": [
    {
     "data": {
      "image/png": "[encoded data removed]",
      "text/plain": [
       "<Figure size 640x480 with 1 Axes>"
      ]
     },
     "metadata": {},
     "output_type": "display_data"
    }
   ],
   "source": [
    "df_hepatitis['BILIRUBIN'].hist(bins=12)\n",
    "plt.xlabel('BILIRUBIN')\n",
    "plt.ylabel('Frecuencia')\n",
    "plt.title('Histograma de BILIRUBIN')\n",
    "plt.show()"
   ]
  },
  {
   "cell_type": "code",
   "execution_count": 33,
   "id": "fbcaa69d-0d19-4043-9710-eff5b5be992f",
   "metadata": {},
   "outputs": [],
   "source": [
    "df_hepatitis['BILIRUBIN'] = scaler.fit_transform(df_hepatitis[['BILIRUBIN']])"
   ]
  },
  {
   "cell_type": "code",
   "execution_count": 34,
   "id": "4eb59d8d-7d24-47c6-97d7-eb85b72090cd",
   "metadata": {},
   "outputs": [
    {
     "data": {
      "image/png": "[encoded data removed]",
      "text/plain": [
       "<Figure size 640x480 with 1 Axes>"
      ]
     },
     "metadata": {},
     "output_type": "display_data"
    }
   ],
   "source": [
    "df_hepatitis['BILIRUBIN'].hist(bins=12)\n",
    "plt.xlabel('BILIRUBIN')\n",
    "plt.ylabel('Frecuencia')\n",
    "plt.title('Histograma de BILIRUBIN')\n",
    "plt.show()"
   ]
  },
  {
   "cell_type": "markdown",
   "id": "27c8327b-87f3-4eb5-a6a6-0d483e68890c",
   "metadata": {},
   "source": [
    "## ALK PHOSPHATE"
   ]
  },
  {
   "cell_type": "code",
   "execution_count": 35,
   "id": "225186f3-b4b3-4fc5-a876-de3501097989",
   "metadata": {},
   "outputs": [
    {
     "data": {
      "text/plain": [
       "ALK PHOSPHATE\n",
       "?      29\n",
       "85     18\n",
       "81      4\n",
       "62      4\n",
       "100     3\n",
       "       ..\n",
       "103     1\n",
       "34      1\n",
       "127     1\n",
       "55      1\n",
       "126     1\n",
       "Name: count, Length: 84, dtype: int64"
      ]
     },
     "execution_count": 35,
     "metadata": {},
     "output_type": "execute_result"
    }
   ],
   "source": [
    "df_hepatitis['ALK PHOSPHATE'].value_counts()"
   ]
  },
  {
   "cell_type": "code",
   "execution_count": 36,
   "id": "24481188-5dc5-4d44-9c37-0b56e1be9429",
   "metadata": {},
   "outputs": [
    {
     "name": "stdout",
     "output_type": "stream",
     "text": [
      "85.0\n"
     ]
    },
    {
     "name": "stderr",
     "output_type": "stream",
     "text": [
      "C:\\Users\\marco\\AppData\\Local\\Temp\\ipykernel_51984\\3571786950.py:4: SettingWithCopyWarning: \n",
      "A value is trying to be set on a copy of a slice from a DataFrame.\n",
      "Try using .loc[row_indexer,col_indexer] = value instead\n",
      "\n",
      "See the caveats in the documentation: https://pandas.pydata.org/pandas-docs/stable/user_guide/indexing.html#returning-a-view-versus-a-copy\n",
      "  df_ALK['ALK PHOSPHATE'] = df_ALK['ALK PHOSPHATE'].astype(float) # Pasamos de Object a interger\n"
     ]
    }
   ],
   "source": [
    "df_ALK = df_hepatitis\n",
    "df_ALK = df_ALK[df_ALK['ALK PHOSPHATE'] != '?']\n",
    "\n",
    "df_ALK['ALK PHOSPHATE'] = df_ALK['ALK PHOSPHATE'].astype(float) # Pasamos de Object a interger\n",
    "\n",
    "mode_ALK = df_ALK['ALK PHOSPHATE'].mode()\n",
    "print(mode_ALK[0])"
   ]
  },
  {
   "cell_type": "code",
   "execution_count": 37,
   "id": "293c5251-9898-4c84-9ad8-cdcace36d97b",
   "metadata": {},
   "outputs": [],
   "source": [
    "df_hepatitis['ALK PHOSPHATE'] = df_hepatitis['ALK PHOSPHATE'].replace('?',mode_ALK[0]) #Reemplazamos por la moda\n",
    "df_hepatitis['ALK PHOSPHATE'] = df_hepatitis['ALK PHOSPHATE'].astype(float) # Pasamos de Object a interger"
   ]
  },
  {
   "cell_type": "code",
   "execution_count": 38,
   "id": "020355b7-8b92-4c96-9424-a1a154b3b27d",
   "metadata": {},
   "outputs": [
    {
     "data": {
      "image/png": "[encoded data removed]",
      "text/plain": [
       "<Figure size 640x480 with 1 Axes>"
      ]
     },
     "metadata": {},
     "output_type": "display_data"
    }
   ],
   "source": [
    "df_hepatitis['ALK PHOSPHATE'].hist(bins=12)\n",
    "plt.xlabel('ALK PHOSPHATE')\n",
    "plt.ylabel('Frecuencia')\n",
    "plt.title('Histograma de BILIRUBIN')\n",
    "plt.show()"
   ]
  },
  {
   "cell_type": "code",
   "execution_count": 39,
   "id": "624c4b5d-3c73-422c-9c8d-9cdaf01ad83d",
   "metadata": {},
   "outputs": [],
   "source": [
    "df_hepatitis['ALK PHOSPHATE'] = scaler.fit_transform(df_hepatitis[['ALK PHOSPHATE']])"
   ]
  },
  {
   "cell_type": "code",
   "execution_count": 40,
   "id": "545cb371-6587-42a6-b304-09afcab1feee",
   "metadata": {},
   "outputs": [
    {
     "data": {
      "image/png": "[encoded data removed]",
      "text/plain": [
       "<Figure size 640x480 with 1 Axes>"
      ]
     },
     "metadata": {},
     "output_type": "display_data"
    }
   ],
   "source": [
    "df_hepatitis['ALK PHOSPHATE'].hist(bins=12)\n",
    "plt.xlabel('ALK PHOSPHATE')\n",
    "plt.ylabel('Frecuencia')\n",
    "plt.title('Histograma de BILIRUBIN')\n",
    "plt.show()"
   ]
  },
  {
   "cell_type": "code",
   "execution_count": null,
   "id": "8bb4c45b-dbde-42d7-aa0b-9d2feec2b307",
   "metadata": {},
   "outputs": [],
   "source": []
  },
  {
   "cell_type": "markdown",
   "id": "73eff5b2-10c6-4e60-9c41-004c01acb6a5",
   "metadata": {},
   "source": [
    "## SGOT"
   ]
  },
  {
   "cell_type": "code",
   "execution_count": 41,
   "id": "71a7e5d5-ec51-4646-90f9-4bf0410e17e4",
   "metadata": {},
   "outputs": [
    {
     "data": {
      "image/png": "[encoded data removed]",
      "text/plain": [
       "<Figure size 640x480 with 1 Axes>"
      ]
     },
     "metadata": {},
     "output_type": "display_data"
    }
   ],
   "source": [
    "df_hepatitis['SGOT'].value_counts()\n",
    "df_hepatitis['SGOT'].hist(bins=100)\n",
    "plt.xlabel('SGOT')\n",
    "plt.ylabel('Frecuencia')\n",
    "plt.title('Histograma de BILIRUBIN')\n",
    "plt.show()"
   ]
  },
  {
   "cell_type": "code",
   "execution_count": 42,
   "id": "ada180e1-8bb1-4b05-9c23-583ec7b3408b",
   "metadata": {},
   "outputs": [
    {
     "name": "stdout",
     "output_type": "stream",
     "text": [
      "20.0\n"
     ]
    },
    {
     "name": "stderr",
     "output_type": "stream",
     "text": [
      "C:\\Users\\marco\\AppData\\Local\\Temp\\ipykernel_51984\\1190333002.py:4: SettingWithCopyWarning: \n",
      "A value is trying to be set on a copy of a slice from a DataFrame.\n",
      "Try using .loc[row_indexer,col_indexer] = value instead\n",
      "\n",
      "See the caveats in the documentation: https://pandas.pydata.org/pandas-docs/stable/user_guide/indexing.html#returning-a-view-versus-a-copy\n",
      "  df_ALK['SGOT'] = df_ALK['SGOT'].astype(float) # Pasamos de Object a interger\n"
     ]
    }
   ],
   "source": [
    "df_ALK = df_hepatitis\n",
    "df_ALK = df_ALK[df_ALK['SGOT'] != '?']\n",
    "\n",
    "df_ALK['SGOT'] = df_ALK['SGOT'].astype(float) # Pasamos de Object a interger\n",
    "\n",
    "mode_ALK = df_ALK['SGOT'].mode()\n",
    "print(mode_ALK[0])"
   ]
  },
  {
   "cell_type": "code",
   "execution_count": 43,
   "id": "42a4d3f8-c67e-438d-b0bc-c5639169393f",
   "metadata": {},
   "outputs": [],
   "source": [
    "df_hepatitis['SGOT'] = df_hepatitis['SGOT'].replace('?',mode_ALK[0]) #Reemplazamos por la moda\n",
    "df_hepatitis['SGOT'] = df_hepatitis['SGOT'].astype(float) # Pasamos de Object a interger"
   ]
  },
  {
   "cell_type": "code",
   "execution_count": 44,
   "id": "67fc1fbb-0bab-4bf0-b2d0-a3ed2485a5b9",
   "metadata": {},
   "outputs": [
    {
     "data": {
      "image/png": "[encoded data removed]",
      "text/plain": [
       "<Figure size 640x480 with 1 Axes>"
      ]
     },
     "metadata": {},
     "output_type": "display_data"
    }
   ],
   "source": [
    "df_hepatitis['SGOT'].value_counts()\n",
    "df_hepatitis['SGOT'].hist(bins=10)\n",
    "plt.xlabel('SGOT')\n",
    "plt.ylabel('Frecuencia')\n",
    "plt.title('Histograma de BILIRUBIN')\n",
    "plt.show()"
   ]
  },
  {
   "cell_type": "code",
   "execution_count": 45,
   "id": "cbaaf081-b273-4564-8b25-4986abdf7ede",
   "metadata": {},
   "outputs": [],
   "source": [
    "df_hepatitis['SGOT'] = scaler.fit_transform(df_hepatitis[['SGOT']])"
   ]
  },
  {
   "cell_type": "code",
   "execution_count": 46,
   "id": "58241db6-8424-43d3-b361-613f3f6ea1dc",
   "metadata": {},
   "outputs": [
    {
     "data": {
      "image/png": "[encoded data removed]",
      "text/plain": [
       "<Figure size 640x480 with 1 Axes>"
      ]
     },
     "metadata": {},
     "output_type": "display_data"
    }
   ],
   "source": [
    "df_hepatitis['SGOT'].value_counts()\n",
    "df_hepatitis['SGOT'].hist(bins=10)\n",
    "plt.xlabel('SGOT')\n",
    "plt.ylabel('Frecuencia')\n",
    "plt.title('Histograma de BILIRUBIN')\n",
    "plt.show()"
   ]
  },
  {
   "cell_type": "markdown",
   "id": "98730a0a-27e7-4aba-8a4f-c271650f6dd2",
   "metadata": {},
   "source": [
    "## ALBUMIN"
   ]
  },
  {
   "cell_type": "code",
   "execution_count": 47,
   "id": "9089d999-0f21-447b-92b4-a7a1a963e1d4",
   "metadata": {},
   "outputs": [
    {
     "data": {
      "text/plain": [
       "ALBUMIN\n",
       "4.0    25\n",
       "?      16\n",
       "4.2    13\n",
       "3.8     9\n",
       "4.4     9\n",
       "3.9     8\n",
       "4.1     8\n",
       "4.3     7\n",
       "3.3     6\n",
       "3.5     6\n",
       "2.9     5\n",
       "3.0     5\n",
       "3.4     4\n",
       "4.5     4\n",
       "2.6     3\n",
       "3.1     3\n",
       "2.8     3\n",
       "3.7     3\n",
       "2.7     3\n",
       "3.6     2\n",
       "2.4     2\n",
       "4.9     2\n",
       "4.6     2\n",
       "6.4     1\n",
       "2.1     1\n",
       "5.0     1\n",
       "4.8     1\n",
       "5.3     1\n",
       "4.7     1\n",
       "2.2     1\n",
       "Name: count, dtype: int64"
      ]
     },
     "execution_count": 47,
     "metadata": {},
     "output_type": "execute_result"
    }
   ],
   "source": [
    "df_hepatitis['ALBUMIN'].value_counts()\n"
   ]
  },
  {
   "cell_type": "code",
   "execution_count": 48,
   "id": "05d66acb-8bea-4619-9a4a-dcebec4ac1bf",
   "metadata": {},
   "outputs": [
    {
     "name": "stdout",
     "output_type": "stream",
     "text": [
      "4.0\n"
     ]
    },
    {
     "name": "stderr",
     "output_type": "stream",
     "text": [
      "C:\\Users\\marco\\AppData\\Local\\Temp\\ipykernel_51984\\3580231598.py:4: SettingWithCopyWarning: \n",
      "A value is trying to be set on a copy of a slice from a DataFrame.\n",
      "Try using .loc[row_indexer,col_indexer] = value instead\n",
      "\n",
      "See the caveats in the documentation: https://pandas.pydata.org/pandas-docs/stable/user_guide/indexing.html#returning-a-view-versus-a-copy\n",
      "  df_ALK['ALBUMIN'] = df_ALK['ALBUMIN'].astype(float) # Pasamos de Object a interger\n"
     ]
    }
   ],
   "source": [
    "df_ALK = df_hepatitis\n",
    "df_ALK = df_ALK[df_ALK['ALBUMIN'] != '?']\n",
    "\n",
    "df_ALK['ALBUMIN'] = df_ALK['ALBUMIN'].astype(float) # Pasamos de Object a interger\n",
    "\n",
    "mode_ALK = df_ALK['ALBUMIN'].mode()\n",
    "print(mode_ALK[0])"
   ]
  },
  {
   "cell_type": "code",
   "execution_count": 49,
   "id": "0a5992d5-dc62-4ce3-a629-c322964e1e22",
   "metadata": {},
   "outputs": [],
   "source": [
    "df_hepatitis['ALBUMIN'] = df_hepatitis['ALBUMIN'].replace('?',mode_ALK[0]) #Reemplazamos por la moda\n",
    "df_hepatitis['ALBUMIN'] = df_hepatitis['ALBUMIN'].astype(float) # Pasamos de Object a interger"
   ]
  },
  {
   "cell_type": "code",
   "execution_count": 50,
   "id": "db14022f-a600-4b7a-a005-232df67270af",
   "metadata": {},
   "outputs": [
    {
     "data": {
      "image/png": "[encoded data removed]",
      "text/plain": [
       "<Figure size 640x480 with 1 Axes>"
      ]
     },
     "metadata": {},
     "output_type": "display_data"
    }
   ],
   "source": [
    "df_hepatitis['ALBUMIN'].value_counts()\n",
    "df_hepatitis['ALBUMIN'].hist(bins=10)\n",
    "plt.xlabel('ALBUMIN')\n",
    "plt.ylabel('Frecuencia')\n",
    "plt.title('Histograma de BILIRUBIN')\n",
    "plt.show()"
   ]
  },
  {
   "cell_type": "code",
   "execution_count": 51,
   "id": "16b13214-591c-4c1d-92b9-ea7cdb820792",
   "metadata": {},
   "outputs": [],
   "source": [
    "df_hepatitis['ALBUMIN'] = scaler.fit_transform(df_hepatitis[['ALBUMIN']])"
   ]
  },
  {
   "cell_type": "code",
   "execution_count": 52,
   "id": "c7dc0baf-8e8c-40e6-9bcc-22bc8f8e5325",
   "metadata": {},
   "outputs": [
    {
     "data": {
      "image/png": "[encoded data removed]",
      "text/plain": [
       "<Figure size 640x480 with 1 Axes>"
      ]
     },
     "metadata": {},
     "output_type": "display_data"
    }
   ],
   "source": [
    "df_hepatitis['ALBUMIN'].value_counts()\n",
    "df_hepatitis['ALBUMIN'].hist(bins=10)\n",
    "plt.xlabel('ALBUMIN')\n",
    "plt.ylabel('Frecuencia')\n",
    "plt.title('Histograma de BILIRUBIN')\n",
    "plt.show()"
   ]
  },
  {
   "cell_type": "code",
   "execution_count": null,
   "id": "82556a89-9f7f-4792-a91f-a9feb24208ee",
   "metadata": {},
   "outputs": [],
   "source": []
  },
  {
   "cell_type": "markdown",
   "id": "d272f266-06af-4269-be6c-1f83e2bfaea9",
   "metadata": {},
   "source": [
    "## PROTIME"
   ]
  },
  {
   "cell_type": "code",
   "execution_count": 53,
   "id": "4d233d93-6a39-4afb-9cfc-91369015bee1",
   "metadata": {},
   "outputs": [
    {
     "data": {
      "text/plain": [
       "PROTIME\n",
       "?      67\n",
       "100    11\n",
       "74      4\n",
       "85      4\n",
       "46      4\n",
       "66      4\n",
       "31      3\n",
       "54      3\n",
       "52      3\n",
       "57      3\n",
       "41      3\n",
       "90      3\n",
       "56      2\n",
       "29      2\n",
       "73      2\n",
       "60      2\n",
       "67      2\n",
       "70      2\n",
       "50      2\n",
       "62      2\n",
       "63      2\n",
       "35      2\n",
       "32      1\n",
       "38      1\n",
       "0       1\n",
       "72      1\n",
       "23      1\n",
       "43      1\n",
       "51      1\n",
       "48      1\n",
       "30      1\n",
       "77      1\n",
       "84      1\n",
       "58      1\n",
       "76      1\n",
       "80      1\n",
       "21      1\n",
       "40      1\n",
       "36      1\n",
       "47      1\n",
       "39      1\n",
       "64      1\n",
       "78      1\n",
       "75      1\n",
       "42      1\n",
       "Name: count, dtype: int64"
      ]
     },
     "execution_count": 53,
     "metadata": {},
     "output_type": "execute_result"
    }
   ],
   "source": [
    "df_hepatitis['PROTIME'].value_counts()"
   ]
  },
  {
   "cell_type": "code",
   "execution_count": 54,
   "id": "06bf6fe5-685a-4f4a-9d46-dca66ccfa66f",
   "metadata": {},
   "outputs": [
    {
     "name": "stdout",
     "output_type": "stream",
     "text": [
      "100.0\n"
     ]
    },
    {
     "name": "stderr",
     "output_type": "stream",
     "text": [
      "C:\\Users\\marco\\AppData\\Local\\Temp\\ipykernel_51984\\3873601096.py:4: SettingWithCopyWarning: \n",
      "A value is trying to be set on a copy of a slice from a DataFrame.\n",
      "Try using .loc[row_indexer,col_indexer] = value instead\n",
      "\n",
      "See the caveats in the documentation: https://pandas.pydata.org/pandas-docs/stable/user_guide/indexing.html#returning-a-view-versus-a-copy\n",
      "  df_ALK['PROTIME'] = df_ALK['PROTIME'].astype(float) # Pasamos de Object a interger\n"
     ]
    }
   ],
   "source": [
    "df_ALK = df_hepatitis\n",
    "df_ALK = df_ALK[df_ALK['PROTIME'] != '?']\n",
    "\n",
    "df_ALK['PROTIME'] = df_ALK['PROTIME'].astype(float) # Pasamos de Object a interger\n",
    "\n",
    "mode_ALK = df_ALK['PROTIME'].mode()\n",
    "print(mode_ALK[0])"
   ]
  },
  {
   "cell_type": "code",
   "execution_count": 55,
   "id": "104c8809-6d72-4922-b7fd-3175e5065660",
   "metadata": {},
   "outputs": [],
   "source": [
    "df_hepatitis['PROTIME'] = df_hepatitis['PROTIME'].replace('?',mode_ALK[0]) #Reemplazamos por la moda\n",
    "df_hepatitis['PROTIME'] = df_hepatitis['PROTIME'].astype(float) # Pasamos de Object a interger"
   ]
  },
  {
   "cell_type": "code",
   "execution_count": 56,
   "id": "b080acf7-85af-4531-a965-d4ea198b6fc3",
   "metadata": {},
   "outputs": [
    {
     "data": {
      "image/png": "[encoded data removed]",
      "text/plain": [
       "<Figure size 640x480 with 1 Axes>"
      ]
     },
     "metadata": {},
     "output_type": "display_data"
    }
   ],
   "source": [
    "df_hepatitis['PROTIME'].value_counts()\n",
    "df_hepatitis['PROTIME'].hist(bins=10)\n",
    "plt.xlabel('PROTIME')\n",
    "plt.ylabel('Frecuencia')\n",
    "plt.title('Histograma de BILIRUBIN')\n",
    "plt.show()"
   ]
  },
  {
   "cell_type": "code",
   "execution_count": 57,
   "id": "26505453-48f3-4892-b72c-1b6b87d3f1c7",
   "metadata": {},
   "outputs": [],
   "source": [
    "df_hepatitis['PROTIME'] = scaler.fit_transform(df_hepatitis[['PROTIME']])"
   ]
  },
  {
   "cell_type": "code",
   "execution_count": 58,
   "id": "0982a898-17ce-441f-974b-dcb16ceb83d9",
   "metadata": {},
   "outputs": [
    {
     "data": {
      "image/png": "[encoded data removed]",
      "text/plain": [
       "<Figure size 640x480 with 1 Axes>"
      ]
     },
     "metadata": {},
     "output_type": "display_data"
    }
   ],
   "source": [
    "df_hepatitis['PROTIME'].value_counts()\n",
    "df_hepatitis['PROTIME'].hist(bins=10)\n",
    "plt.xlabel('PROTIME')\n",
    "plt.ylabel('Frecuencia')\n",
    "plt.title('Histograma de BILIRUBIN')\n",
    "plt.show()"
   ]
  },
  {
   "cell_type": "markdown",
   "id": "eb1a6220-6b32-4672-a89a-54142c7a62b1",
   "metadata": {},
   "source": [
    "## HISTOLOGY"
   ]
  },
  {
   "cell_type": "code",
   "execution_count": 59,
   "id": "f75cf207-8c45-44a3-9c59-f66fc84ad4bb",
   "metadata": {},
   "outputs": [
    {
     "data": {
      "text/plain": [
       "HISTOLOGY\n",
       "1    85\n",
       "2    70\n",
       "Name: count, dtype: int64"
      ]
     },
     "execution_count": 59,
     "metadata": {},
     "output_type": "execute_result"
    }
   ],
   "source": [
    "df_hepatitis['HISTOLOGY'].value_counts()"
   ]
  },
  {
   "cell_type": "code",
   "execution_count": 60,
   "id": "21f9ee3b-50be-4c2e-9837-e01bbe1f4e6d",
   "metadata": {},
   "outputs": [
    {
     "data": {
      "text/plain": [
       "HISTOLOGY\n",
       "0    85\n",
       "1    70\n",
       "Name: count, dtype: int64"
      ]
     },
     "execution_count": 60,
     "metadata": {},
     "output_type": "execute_result"
    }
   ],
   "source": [
    "df_hepatitis['HISTOLOGY'] = df_hepatitis['HISTOLOGY'].replace('?',1) #Reemplazamos por la moda\n",
    "df_hepatitis['HISTOLOGY'] = df_hepatitis['HISTOLOGY'].astype(int) # Pasamos de Object a interger\n",
    "\n",
    "df_hepatitis['HISTOLOGY'] = df_hepatitis['HISTOLOGY'].replace(1,0) #0 NO\n",
    "df_hepatitis['HISTOLOGY'] = df_hepatitis['HISTOLOGY'].replace(2,1) #1 YES\n",
    "df_hepatitis['HISTOLOGY'].value_counts()\n"
   ]
  },
  {
   "cell_type": "markdown",
   "id": "63f3d8bf-f3a0-4dd3-9647-2a9b6de9be76",
   "metadata": {},
   "source": [
    "# Modelado"
   ]
  },
  {
   "cell_type": "markdown",
   "id": "07a978cf-8170-4b75-9ce5-72150ad18daf",
   "metadata": {},
   "source": [
    "### PCA"
   ]
  },
  {
   "cell_type": "code",
   "execution_count": null,
   "id": "906125da-9200-452c-bd60-25a8ce6f8e7b",
   "metadata": {},
   "outputs": [],
   "source": []
  },
  {
   "cell_type": "code",
   "execution_count": null,
   "id": "82c55149-5dc0-4f08-9110-ef1ffebab4bc",
   "metadata": {},
   "outputs": [],
   "source": []
  },
  {
   "cell_type": "code",
   "execution_count": null,
   "id": "e9a33560-60c3-47d6-ab76-3ad700c723d9",
   "metadata": {},
   "outputs": [],
   "source": []
  },
  {
   "cell_type": "code",
   "execution_count": null,
   "id": "447b4d67-b5bf-4890-987f-df757ffe1fd9",
   "metadata": {},
   "outputs": [],
   "source": []
  },
  {
   "cell_type": "code",
   "execution_count": null,
   "id": "1626dacd-b844-44b1-90d1-0a721419a535",
   "metadata": {},
   "outputs": [],
   "source": []
  },
  {
   "cell_type": "code",
   "execution_count": null,
   "id": "1b6deb49-b998-452d-af92-dea23f93980e",
   "metadata": {},
   "outputs": [],
   "source": []
  },
  {
   "cell_type": "markdown",
   "id": "91f5957a-a0ef-4b84-9b7c-dd3c04e49da2",
   "metadata": {
    "jp-MarkdownHeadingCollapsed": true
   },
   "source": [
    "### Clasificación (LOGIT REGRESSION)"
   ]
  },
  {
   "cell_type": "markdown",
   "id": "86abaa9c-af96-4b88-9f20-d98736b0532b",
   "metadata": {},
   "source": [
    "#### Shrinking ELASTIC NET"
   ]
  },
  {
   "cell_type": "code",
   "execution_count": 61,
   "id": "15b027e4-1268-4805-acff-e915bedbff68",
   "metadata": {},
   "outputs": [],
   "source": [
    "X = df_hepatitis.drop(columns = ['Class'])\n",
    "y = df_hepatitis['Class']"
   ]
  },
  {
   "cell_type": "code",
   "execution_count": 62,
   "id": "395571bc-86e7-46ee-bf92-e66184b098f2",
   "metadata": {},
   "outputs": [],
   "source": [
    "#Los datos ya estan escalados\n",
    "X_train, X_test, y_train, y_test = train_test_split(X, y, test_size=0.2, random_state=42)"
   ]
  },
  {
   "cell_type": "code",
   "execution_count": 63,
   "id": "eb701102-fde1-46d2-bf43-95b9257e0174",
   "metadata": {},
   "outputs": [
    {
     "data": {
      "image/png": "[encoded data removed]",
      "text/plain": [
       "<Figure size 1000x600 with 1 Axes>"
      ]
     },
     "metadata": {},
     "output_type": "display_data"
    }
   ],
   "source": [
    "alphas = np.logspace(-8, 2, 100)  # 100 valores de 10e-8 a 10e2\n",
    "\n",
    "# Lista para guardar el error en el conjunto de prueba\n",
    "test_errors = []\n",
    "\n",
    "# Iteramos sobre cada valor de lambda\n",
    "for alpha in alphas:\n",
    "    # Ajustamos un modelo de ElasticNet para cada valor de alpha\n",
    "    elastic_net = ElasticNet(alpha=alpha, l1_ratio=0.5, random_state=42)  # l1_ratio esta en medio\n",
    "    elastic_net.fit(X_train, y_train)\n",
    "    \n",
    "    # Predecimos\n",
    "    y_pred = elastic_net.predict(X_test)\n",
    "    \n",
    "    # Calculamos el MSE en el conjunto de prueba\n",
    "    mse = mean_squared_error(y_test, y_pred)\n",
    "    test_errors.append(mse)\n",
    "\n",
    "# Graficamos el MSE en el conjunto de prueba contra los valores de alpha (lambdas)\n",
    "plt.figure(figsize=(10, 6))\n",
    "plt.plot(alphas, test_errors, marker='o')\n",
    "plt.xscale('log')\n",
    "plt.xlabel('Valores de Lambda')\n",
    "plt.ylabel('MSE en el conjunto de prueba')\n",
    "plt.title('MSE en el conjunto de prueba para distintos valores de Lambda')\n",
    "plt.grid(True)\n",
    "plt.show()"
   ]
  },
  {
   "cell_type": "code",
   "execution_count": 64,
   "id": "80febdc2-8b09-4d3b-9e4e-a3d3ecc4a87a",
   "metadata": {},
   "outputs": [
    {
     "name": "stdout",
     "output_type": "stream",
     "text": [
      "El mejor valor de lambda es: 1.1768e-01 con un MSE de: 0.1400\n"
     ]
    }
   ],
   "source": [
    "# Encontramos el índice del MSE mínimo\n",
    "best_index = np.argmin(test_errors)\n",
    "\n",
    "# Obtenemos el mejor valor de lambda (alpha) y el menor MSE\n",
    "best_alpha = alphas[best_index]\n",
    "best_mse = test_errors[best_index]\n",
    "\n",
    "print(f\"El mejor valor de lambda es: {best_alpha:.4e} con un MSE de: {best_mse:.4f}\")"
   ]
  },
  {
   "cell_type": "code",
   "execution_count": 65,
   "id": "8cd56c98-c93a-4f1a-9afc-312f63776efd",
   "metadata": {},
   "outputs": [
    {
     "name": "stdout",
     "output_type": "stream",
     "text": [
      " TEST Precision: 0.8065\n",
      "Matriz de confusión:\n",
      "[[ 3  4]\n",
      " [ 2 22]]\n",
      "Reporte de clasificación:\n",
      "              precision    recall  f1-score   support\n",
      "\n",
      "           0       0.60      0.43      0.50         7\n",
      "           1       0.85      0.92      0.88        24\n",
      "\n",
      "    accuracy                           0.81        31\n",
      "   macro avg       0.72      0.67      0.69        31\n",
      "weighted avg       0.79      0.81      0.79        31\n",
      "\n"
     ]
    }
   ],
   "source": [
    "model = LogisticRegression(penalty='elasticnet', solver='saga', l1_ratio=0.5, C=1/best_alpha, random_state=42, max_iter=1000)\n",
    "model.fit(X_train, y_train)\n",
    "\n",
    "# Predecimos con el mejor lambda\n",
    "y_pred = model.predict(X_test)\n",
    "\n",
    "# Calcular la precision\n",
    "accuracy = accuracy_score(y_test, y_pred)\n",
    "print(f\" TEST Precision: {accuracy:.4f}\")\n",
    "\n",
    "# Matriz de confusion\n",
    "conf_matrix = confusion_matrix(y_test, y_pred)\n",
    "print(\"Matriz de confusión:\")\n",
    "print(conf_matrix)\n",
    "\n",
    "# Classificattion Report\n",
    "class_report = classification_report(y_test, y_pred)\n",
    "print(\"Reporte de clasificación:\")\n",
    "print(class_report)"
   ]
  },
  {
   "cell_type": "code",
   "execution_count": 66,
   "id": "939096d7-6799-4574-babc-513a45c652b0",
   "metadata": {},
   "outputs": [
    {
     "data": {
      "image/png": "[encoded data removed]",
      "text/plain": [
       "<Figure size 1000x600 with 1 Axes>"
      ]
     },
     "metadata": {},
     "output_type": "display_data"
    }
   ],
   "source": [
    "y_prob = model.predict_proba(X_test)[:, 1]  # Probabilidades de la clase positiva\n",
    "\n",
    "# Calculando Verdader Positivo (TPR) y Falso Positivo (FPR)\n",
    "fpr, tpr, thresholds = roc_curve(y_test, y_prob)\n",
    "\n",
    "# Calculando el AUC\n",
    "auc = roc_auc_score(y_test, y_prob)\n",
    "\n",
    "# Graficando la curva ROC\n",
    "plt.figure(figsize=(10, 6))\n",
    "plt.plot(fpr, tpr, label='Curva ROC (AUC = {:.2f})'.format(auc))\n",
    "plt.plot([0, 1], [0, 1], 'k--')  # Línea diagonal\n",
    "plt.xlim([0.0, 1.0])\n",
    "plt.ylim([0.0, 1.05])\n",
    "plt.xlabel('Tasa de Falsos Positivos')\n",
    "plt.ylabel('Tasa de Verdaderos Positivos')\n",
    "plt.title('Curva ROC')\n",
    "plt.legend(loc='lower right')\n",
    "plt.grid()\n",
    "plt.show()"
   ]
  },
  {
   "cell_type": "code",
   "execution_count": 67,
   "id": "d3d08361-8303-4242-9378-cde5abb59ae1",
   "metadata": {},
   "outputs": [
    {
     "name": "stdout",
     "output_type": "stream",
     "text": [
      "0.6964285714285714\n"
     ]
    }
   ],
   "source": [
    "#Area bajo la curva\n",
    "print(roc_auc_score(y_test, y_prob))"
   ]
  },
  {
   "cell_type": "markdown",
   "id": "63e0376c-6c5a-4450-897b-1bd4348b54bd",
   "metadata": {
    "jp-MarkdownHeadingCollapsed": true
   },
   "source": [
    "### Clasificacion (Arboles de Decision)"
   ]
  },
  {
   "cell_type": "code",
   "execution_count": null,
   "id": "96abaf1f-7873-4e52-b761-34d772dcc0bf",
   "metadata": {},
   "outputs": [],
   "source": []
  },
  {
   "cell_type": "code",
   "execution_count": null,
   "id": "72ad4326-62c0-4973-ba95-51166860afd5",
   "metadata": {},
   "outputs": [],
   "source": []
  },
  {
   "cell_type": "code",
   "execution_count": null,
   "id": "d76a8e5d-8e57-4f2c-a8c2-4addad96c35f",
   "metadata": {},
   "outputs": [],
   "source": []
  },
  {
   "cell_type": "code",
   "execution_count": null,
   "id": "6a108e4a-0f6d-4ac6-a66c-d1b74ac07a26",
   "metadata": {},
   "outputs": [],
   "source": []
  },
  {
   "cell_type": "code",
   "execution_count": null,
   "id": "bc43cfd0-1045-4b0e-8de2-8d0e3e1c4ef1",
   "metadata": {},
   "outputs": [],
   "source": []
  },
  {
   "cell_type": "code",
   "execution_count": null,
   "id": "1d2cc696-6c51-4e6f-b5ba-bc0c912066aa",
   "metadata": {},
   "outputs": [],
   "source": []
  },
  {
   "cell_type": "markdown",
   "id": "d6503a13-b563-46dd-9880-9f5a9b25454e",
   "metadata": {
    "jp-MarkdownHeadingCollapsed": true
   },
   "source": [
    "### Support Vector Machine (SVM)"
   ]
  },
  {
   "cell_type": "code",
   "execution_count": null,
   "id": "dabd1c27-bea0-4c14-9059-12b595fc9954",
   "metadata": {},
   "outputs": [],
   "source": []
  },
  {
   "cell_type": "code",
   "execution_count": null,
   "id": "f01319d6-3e1e-4934-86b1-acd56bc2203c",
   "metadata": {},
   "outputs": [],
   "source": []
  }
 ],
 "metadata": {
  "kernelspec": {
   "display_name": "Python 3 (ipykernel)",
   "language": "python",
   "name": "python3"
  },
  "language_info": {
   "codemirror_mode": {
    "name": "ipython",
    "version": 3
   },
   "file_extension": ".py",
   "mimetype": "text/x-python",
   "name": "python",
   "nbconvert_exporter": "python",
   "pygments_lexer": "ipython3",
   "version": "3.12.3"
  }
 },
 "nbformat": 4,
 "nbformat_minor": 5
}
