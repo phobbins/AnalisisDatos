{
 "cells": [
  {
   "cell_type": "markdown",
   "id": "bdc8b738-5be2-4453-aa87-1ab9ee401976",
   "metadata": {},
   "source": [
    "Attribute information:\n",
    "\n",
    "     1. Class: DIE, LIVE\n",
    "     \n",
    "     2. AGE: 10, 20, 30, 40, 50, 60, 70, 80\n",
    "     \n",
    "     3. SEX: male, female\n",
    "     \n",
    "     4. STEROID: no, yes\n",
    "     \n",
    "     5. ANTIVIRALS: no, yes\n",
    "     \n",
    "     6. FATIGUE: no, yes\n",
    "     \n",
    "     7. MALAISE: no, yes\n",
    "     \n",
    "     8. ANOREXIA: no, yes\n",
    "     \n",
    "     9. LIVER BIG: no, yes\n",
    "     \n",
    "    10. LIVER FIRM: no, yes\n",
    "    \n",
    "    11. SPLEEN PALPABLE: no, yes\n",
    "    \n",
    "    12. SPIDERS: no, yes\n",
    "    \n",
    "    13. ASCITES: no, yes\n",
    "    \n",
    "    14. VARICES: no, yes\n",
    "    \n",
    "    15. BILIRUBIN: 0.39, 0.80, 1.20, 2.00, 3.00, 4.00\n",
    "        -- see the note below\n",
    "        \n",
    "    16. ALK PHOSPHATE: 33, 80, 120, 160, 200, 250\n",
    "    \n",
    "    17. SGOT: 13, 100, 200, 300, 400, 500, \n",
    "    \n",
    "    18. ALBUMIN: 2.1, 3.0, 3.8, 4.5, 5.0, 6.0\n",
    "    \n",
    "    19. PROTIME: 10, 20, 30, 40, 50, 60, 70, 80, 90\n",
    "    \n",
    "    20. HISTOLOGY: no, yes"
   ]
  },
  {
   "cell_type": "code",
   "execution_count": 1,
   "id": "304c0ee1-b145-49b1-b674-00fb9edbd8be",
   "metadata": {},
   "outputs": [],
   "source": [
    "import pandas as pd\n",
    "import matplotlib.pyplot as plt\n",
    "import seaborn as sns\n",
    "from sklearn.preprocessing import StandardScaler, LabelEncoder,MinMaxScaler\n"
   ]
  },
  {
   "cell_type": "code",
   "execution_count": 2,
   "id": "63fda322-a1eb-47d9-9e08-34742c012d62",
   "metadata": {},
   "outputs": [
    {
     "name": "stdout",
     "output_type": "stream",
     "text": [
      "Index(['Class', 'AGE', 'SEX', 'STEROID', 'ANTIVIRALS', 'FATIGUE', 'MALAISE',\n",
      "       'ANOREXIA', 'LIVER BIG', 'LIVER FIRM', 'SPLEEN PALPABLE', 'SPIDERS',\n",
      "       'ASCITES', 'VARICES', 'BILIRUBIN', 'ALK PHOSPHATE', 'SGOT', 'ALBUMIN',\n",
      "       'PROTIME', 'HISTOLOGY'],\n",
      "      dtype='object')\n",
      "   Class  AGE  SEX STEROID  ANTIVIRALS FATIGUE MALAISE ANOREXIA LIVER BIG  \\\n",
      "0      2   30    2       1           2       2       2        2         1   \n",
      "1      2   50    1       1           2       1       2        2         1   \n",
      "2      2   78    1       2           2       1       2        2         2   \n",
      "3      2   31    1       ?           1       2       2        2         2   \n",
      "4      2   34    1       2           2       2       2        2         2   \n",
      "5      2   34    1       2           2       2       2        2         2   \n",
      "6      1   51    1       1           2       1       2        1         2   \n",
      "7      2   23    1       2           2       2       2        2         2   \n",
      "8      2   39    1       2           2       1       2        2         2   \n",
      "9      2   30    1       2           2       2       2        2         2   \n",
      "\n",
      "  LIVER FIRM SPLEEN PALPABLE SPIDERS ASCITES VARICES BILIRUBIN ALK PHOSPHATE  \\\n",
      "0          2               2       2       2       2      1.00            85   \n",
      "1          2               2       2       2       2      0.90           135   \n",
      "2          2               2       2       2       2      0.70            96   \n",
      "3          2               2       2       2       2      0.70            46   \n",
      "4          2               2       2       2       2      1.00             ?   \n",
      "5          2               2       2       2       2      0.90            95   \n",
      "6          2               1       1       2       2         ?             ?   \n",
      "7          2               2       2       2       2      1.00             ?   \n",
      "8          1               2       2       2       2      0.70             ?   \n",
      "9          2               2       2       2       2      1.00             ?   \n",
      "\n",
      "  SGOT ALBUMIN PROTIME  HISTOLOGY  \n",
      "0   18     4.0       ?          1  \n",
      "1   42     3.5       ?          1  \n",
      "2   32     4.0       ?          1  \n",
      "3   52     4.0      80          1  \n",
      "4  200     4.0       ?          1  \n",
      "5   28     4.0      75          1  \n",
      "6    ?       ?       ?          1  \n",
      "7    ?       ?       ?          1  \n",
      "8   48     4.4       ?          1  \n",
      "9  120     3.9       ?          1  \n"
     ]
    }
   ],
   "source": [
    "column_names = [\n",
    "    'Class', \n",
    "    'AGE', \n",
    "    'SEX', \n",
    "    'STEROID', \n",
    "    'ANTIVIRALS', \n",
    "    'FATIGUE', \n",
    "    'MALAISE', \n",
    "    'ANOREXIA', \n",
    "    'LIVER BIG', \n",
    "    'LIVER FIRM', \n",
    "    'SPLEEN PALPABLE', \n",
    "    'SPIDERS', \n",
    "    'ASCITES', \n",
    "    'VARICES', \n",
    "    'BILIRUBIN', \n",
    "    'ALK PHOSPHATE', \n",
    "    'SGOT', \n",
    "    'ALBUMIN', \n",
    "    'PROTIME', \n",
    "    'HISTOLOGY'\n",
    "]\n",
    "df_hepatitis = pd.read_csv('hepatitis/hepatitis.data', header=None, names=column_names)\n",
    "\n",
    "print(df_hepatitis.columns)\n",
    "print(df_hepatitis.head(10))"
   ]
  },
  {
   "cell_type": "code",
   "execution_count": 3,
   "id": "e35f7588-e211-459d-8c21-2da96b16e66b",
   "metadata": {},
   "outputs": [
    {
     "name": "stdout",
     "output_type": "stream",
     "text": [
      "Class              0\n",
      "AGE                0\n",
      "SEX                0\n",
      "STEROID            0\n",
      "ANTIVIRALS         0\n",
      "FATIGUE            0\n",
      "MALAISE            0\n",
      "ANOREXIA           0\n",
      "LIVER BIG          0\n",
      "LIVER FIRM         0\n",
      "SPLEEN PALPABLE    0\n",
      "SPIDERS            0\n",
      "ASCITES            0\n",
      "VARICES            0\n",
      "BILIRUBIN          0\n",
      "ALK PHOSPHATE      0\n",
      "SGOT               0\n",
      "ALBUMIN            0\n",
      "PROTIME            0\n",
      "HISTOLOGY          0\n",
      "dtype: int64\n"
     ]
    }
   ],
   "source": [
    "print(df_hepatitis.isna().sum())"
   ]
  },
  {
   "cell_type": "markdown",
   "id": "abfde0b1-b65b-4fe4-9c69-a3137a307e2b",
   "metadata": {},
   "source": [
    "# Normalizacion de Variables"
   ]
  },
  {
   "cell_type": "markdown",
   "id": "1e21a034-6876-427e-8309-c21c0af72e1f",
   "metadata": {},
   "source": [
    "## Class"
   ]
  },
  {
   "cell_type": "code",
   "execution_count": 4,
   "id": "9685561e-3e4c-4935-bd02-7340e3126aa3",
   "metadata": {},
   "outputs": [
    {
     "data": {
      "text/plain": [
       "Class\n",
       "1    123\n",
       "0     32\n",
       "Name: count, dtype: int64"
      ]
     },
     "execution_count": 4,
     "metadata": {},
     "output_type": "execute_result"
    }
   ],
   "source": [
    "df_hepatitis['Class'] = df_hepatitis['Class'].replace(1,0) #0 DIE\n",
    "df_hepatitis['Class'] = df_hepatitis['Class'].replace(2,1) #1 Survived\n",
    "df_hepatitis['Class'].value_counts()"
   ]
  },
  {
   "cell_type": "markdown",
   "id": "60712626-465e-4614-9cf2-75df1641482e",
   "metadata": {},
   "source": [
    "## Age"
   ]
  },
  {
   "cell_type": "code",
   "execution_count": 5,
   "id": "9ddd2850-09fc-477d-b24b-5ba2d6d10d13",
   "metadata": {},
   "outputs": [
    {
     "name": "stdout",
     "output_type": "stream",
     "text": [
      "0      30\n",
      "1      50\n",
      "2      78\n",
      "3      31\n",
      "4      34\n",
      "       ..\n",
      "150    46\n",
      "151    44\n",
      "152    61\n",
      "153    53\n",
      "154    43\n",
      "Name: AGE, Length: 155, dtype: int64\n",
      "41.2\n",
      "int64\n"
     ]
    }
   ],
   "source": [
    "print(df_hepatitis['AGE'])\n",
    "print(df_hepatitis['AGE'].mean())\n",
    "print(df_hepatitis['AGE'].dtype)"
   ]
  },
  {
   "cell_type": "code",
   "execution_count": null,
   "id": "66601609-b137-4253-9cab-3bb0467f86f6",
   "metadata": {},
   "outputs": [],
   "source": [
    "scaler = StandardScaler()\n",
    "df_hepatitis['AGE'] = scaler.fit_transform(df_hepatitis[['AGE']])"
   ]
  },
  {
   "cell_type": "code",
   "execution_count": 6,
   "id": "0147ec42-387c-479d-9f21-d6511da4d597",
   "metadata": {},
   "outputs": [
    {
     "data": {
      "image/png": "[encoded data removed]",
      "text/plain": [
       "<Figure size 640x480 with 1 Axes>"
      ]
     },
     "metadata": {},
     "output_type": "display_data"
    }
   ],
   "source": [
    "df_hepatitis['AGE'].hist(bins=10)\n",
    "plt.xlabel('Edad')\n",
    "plt.ylabel('Frecuencia')\n",
    "plt.title('Histograma de AGE')\n",
    "plt.show()"
   ]
  },
  {
   "cell_type": "code",
   "execution_count": null,
   "id": "4d0b466e-a6e5-4d32-9ed2-eae8a6f6441d",
   "metadata": {},
   "outputs": [],
   "source": []
  }
 ],
 "metadata": {
  "kernelspec": {
   "display_name": "Python 3 (ipykernel)",
   "language": "python",
   "name": "python3"
  },
  "language_info": {
   "codemirror_mode": {
    "name": "ipython",
    "version": 3
   },
   "file_extension": ".py",
   "mimetype": "text/x-python",
   "name": "python",
   "nbconvert_exporter": "python",
   "pygments_lexer": "ipython3",
   "version": "3.12.3"
  }
 },
 "nbformat": 4,
 "nbformat_minor": 5
}
