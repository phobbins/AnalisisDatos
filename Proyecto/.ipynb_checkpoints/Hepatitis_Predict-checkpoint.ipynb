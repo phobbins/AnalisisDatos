{
 "cells": [
  {
   "cell_type": "markdown",
   "id": "bdc8b738-5be2-4453-aa87-1ab9ee401976",
   "metadata": {},
   "source": [
    "Attribute information:\n",
    "\n",
    "     1. Class: DIE, LIVE\n",
    "     \n",
    "     2. AGE: 10, 20, 30, 40, 50, 60, 70, 80\n",
    "     \n",
    "     3. SEX: male, female\n",
    "     \n",
    "     4. STEROID: no, yes\n",
    "     \n",
    "     5. ANTIVIRALS: no, yes\n",
    "     \n",
    "     6. FATIGUE: no, yes\n",
    "     \n",
    "     7. MALAISE: no, yes\n",
    "     \n",
    "     8. ANOREXIA: no, yes\n",
    "     \n",
    "     9. LIVER BIG: no, yes\n",
    "     \n",
    "    10. LIVER FIRM: no, yes\n",
    "    \n",
    "    11. SPLEEN PALPABLE: no, yes\n",
    "    \n",
    "    12. SPIDERS: no, yes\n",
    "    \n",
    "    13. ASCITES: no, yes\n",
    "    \n",
    "    14. VARICES: no, yes\n",
    "    \n",
    "    15. BILIRUBIN: 0.39, 0.80, 1.20, 2.00, 3.00, 4.00\n",
    "        -- see the note below\n",
    "        \n",
    "    16. ALK PHOSPHATE: 33, 80, 120, 160, 200, 250\n",
    "    \n",
    "    17. SGOT: 13, 100, 200, 300, 400, 500, \n",
    "    \n",
    "    18. ALBUMIN: 2.1, 3.0, 3.8, 4.5, 5.0, 6.0\n",
    "    \n",
    "    19. PROTIME: 10, 20, 30, 40, 50, 60, 70, 80, 90\n",
    "    \n",
    "    20. HISTOLOGY: no, yes"
   ]
  },
  {
   "cell_type": "code",
   "execution_count": 2,
   "id": "304c0ee1-b145-49b1-b674-00fb9edbd8be",
   "metadata": {},
   "outputs": [
    {
     "ename": "ModuleNotFoundError",
     "evalue": "No module named 'pandas'",
     "output_type": "error",
     "traceback": [
      "\u001b[1;31m---------------------------------------------------------------------------\u001b[0m",
      "\u001b[1;31mModuleNotFoundError\u001b[0m                       Traceback (most recent call last)",
      "Cell \u001b[1;32mIn[2], line 1\u001b[0m\n\u001b[1;32m----> 1\u001b[0m \u001b[38;5;28;01mimport\u001b[39;00m \u001b[38;5;21;01mpandas\u001b[39;00m \u001b[38;5;28;01mas\u001b[39;00m \u001b[38;5;21;01mpd\u001b[39;00m\n",
      "\u001b[1;31mModuleNotFoundError\u001b[0m: No module named 'pandas'"
     ]
    }
   ],
   "source": [
    "\n",
    "import pandas as pd\n"
   ]
  },
  {
   "cell_type": "code",
   "execution_count": 1,
   "id": "63fda322-a1eb-47d9-9e08-34742c012d62",
   "metadata": {},
   "outputs": [
    {
     "ename": "NameError",
     "evalue": "name 'pd' is not defined",
     "output_type": "error",
     "traceback": [
      "\u001b[1;31m---------------------------------------------------------------------------\u001b[0m",
      "\u001b[1;31mNameError\u001b[0m                                 Traceback (most recent call last)",
      "Cell \u001b[1;32mIn[1], line 1\u001b[0m\n\u001b[1;32m----> 1\u001b[0m df_hepatitis \u001b[38;5;241m=\u001b[39m \u001b[43mpd\u001b[49m\u001b[38;5;241m.\u001b[39mread_csv(\u001b[38;5;124m'\u001b[39m\u001b[38;5;124mhepatitis/hepatitis.data\u001b[39m\u001b[38;5;124m'\u001b[39m)\n\u001b[0;32m      2\u001b[0m \u001b[38;5;28mprint\u001b[39m(df_hepatitis\u001b[38;5;241m.\u001b[39mcolumns)\n\u001b[0;32m      3\u001b[0m \u001b[38;5;28mprint\u001b[39m(df_hepatitis)\n",
      "\u001b[1;31mNameError\u001b[0m: name 'pd' is not defined"
     ]
    }
   ],
   "source": [
    "df_hepatitis = pd.read_csv('hepatitis/hepatitis.data')\n",
    "print(df_hepatitis.columns)\n",
    "print(df_hepatitis)"
   ]
  },
  {
   "cell_type": "code",
   "execution_count": null,
   "id": "e35f7588-e211-459d-8c21-2da96b16e66b",
   "metadata": {},
   "outputs": [],
   "source": []
  }
 ],
 "metadata": {
  "kernelspec": {
   "display_name": "Python 3 (ipykernel)",
   "language": "python",
   "name": "python3"
  },
  "language_info": {
   "codemirror_mode": {
    "name": "ipython",
    "version": 3
   },
   "file_extension": ".py",
   "mimetype": "text/x-python",
   "name": "python",
   "nbconvert_exporter": "python",
   "pygments_lexer": "ipython3",
   "version": "3.13.0"
  }
 },
 "nbformat": 4,
 "nbformat_minor": 5
}
