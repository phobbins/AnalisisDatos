{
 "cells": [
  {
   "cell_type": "code",
   "execution_count": 2,
   "id": "304c0ee1-b145-49b1-b674-00fb9edbd8be",
   "metadata": {},
   "outputs": [],
   "source": [
    "import pandas as pd"
   ]
  },
  {
   "cell_type": "code",
   "execution_count": 3,
   "id": "63fda322-a1eb-47d9-9e08-34742c012d62",
   "metadata": {},
   "outputs": [
    {
     "name": "stdout",
     "output_type": "stream",
     "text": [
      "Index(['11', '0', '71', '0.1', '0.260', '9', '4.600', '14', '1', '1.1', '1.2',\n",
      "       '0.2'],\n",
      "      dtype='object')\n",
      "       11    0    71  0.1  0.260       9   4.600    14      1    1.1  1.2  0.2\n",
      "0    19.0  0.0  72.0  0.0  0.380   6.000   4.100  14.0  1.700  0.588  1.0  0.0\n",
      "1    16.0  0.0  55.0  0.0  0.260   4.000   3.420  14.0  1.000  1.000  1.0  0.0\n",
      "2    57.0  0.0  60.0  0.0  0.253  12.062   4.603  16.0  1.450  0.788  1.0  0.0\n",
      "3    19.0  1.0  57.0  0.0  0.160  22.000   5.750  18.0  2.250  0.571  1.0  0.0\n",
      "4    26.0  0.0  68.0  0.0  0.260   5.000   4.310  12.0  1.000  0.857  1.0  0.0\n",
      "..    ...  ...   ...  ...    ...     ...     ...   ...    ...    ...  ...  ...\n",
      "126   7.5  1.0  64.0  0.0    NaN  12.900   4.720  12.0  1.000  0.857  NaN  NaN\n",
      "127  41.0  0.0  64.0  0.0  0.280   5.400   5.470  11.0  1.100  0.714  NaN  NaN\n",
      "128  36.0  0.0  69.0  0.0  0.200   7.000  67.800  14.5  1.210  0.857  NaN  NaN\n",
      "129  22.0  0.0   NaN  0.0  0.140  16.100   4.360  15.0  1.360    NaN  NaN  NaN\n",
      "130  20.0  0.0  62.0  0.0  0.150   0.000   4.510  15.5  1.409  0.786  NaN  NaN\n",
      "\n",
      "[131 rows x 12 columns]\n"
     ]
    }
   ],
   "source": [
    "df_hepatitis = pd.read_csv('Tema_3.csv')\n",
    "print(df_hepatitis.columns)\n",
    "print(df_hepatitis)"
   ]
  },
  {
   "cell_type": "code",
   "execution_count": null,
   "id": "e35f7588-e211-459d-8c21-2da96b16e66b",
   "metadata": {},
   "outputs": [],
   "source": []
  }
 ],
 "metadata": {
  "kernelspec": {
   "display_name": "Python 3 (ipykernel)",
   "language": "python",
   "name": "python3"
  },
  "language_info": {
   "codemirror_mode": {
    "name": "ipython",
    "version": 3
   },
   "file_extension": ".py",
   "mimetype": "text/x-python",
   "name": "python",
   "nbconvert_exporter": "python",
   "pygments_lexer": "ipython3",
   "version": "3.12.3"
  }
 },
 "nbformat": 4,
 "nbformat_minor": 5
}
