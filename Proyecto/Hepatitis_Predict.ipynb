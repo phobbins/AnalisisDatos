{
 "cells": [
  {
   "cell_type": "markdown",
   "id": "bdc8b738-5be2-4453-aa87-1ab9ee401976",
   "metadata": {},
   "source": [
    "Attribute information:\n",
    "\n",
    "     1. Class: DIE, LIVE\n",
    "     \n",
    "     2. AGE: 10, 20, 30, 40, 50, 60, 70, 80\n",
    "     \n",
    "     3. SEX: male, female\n",
    "     \n",
    "     4. STEROID: no, yes\n",
    "     \n",
    "     5. ANTIVIRALS: no, yes\n",
    "     \n",
    "     6. FATIGUE: no, yes\n",
    "     \n",
    "     7. MALAISE: no, yes\n",
    "     \n",
    "     8. ANOREXIA: no, yes\n",
    "     \n",
    "     9. LIVER BIG: no, yes\n",
    "     \n",
    "    10. LIVER FIRM: no, yes\n",
    "    \n",
    "    11. SPLEEN PALPABLE: no, yes\n",
    "    \n",
    "    12. SPIDERS: no, yes\n",
    "    \n",
    "    13. ASCITES: no, yes\n",
    "    \n",
    "    14. VARICES: no, yes\n",
    "    \n",
    "    15. BILIRUBIN: 0.39, 0.80, 1.20, 2.00, 3.00, 4.00\n",
    "        -- see the note below\n",
    "        \n",
    "    16. ALK PHOSPHATE: 33, 80, 120, 160, 200, 250\n",
    "    \n",
    "    17. SGOT: 13, 100, 200, 300, 400, 500, \n",
    "    \n",
    "    18. ALBUMIN: 2.1, 3.0, 3.8, 4.5, 5.0, 6.0\n",
    "    \n",
    "    19. PROTIME: 10, 20, 30, 40, 50, 60, 70, 80, 90\n",
    "    \n",
    "    20. HISTOLOGY: no, yes"
   ]
  },
  {
   "cell_type": "code",
   "execution_count": 1,
   "id": "304c0ee1-b145-49b1-b674-00fb9edbd8be",
   "metadata": {},
   "outputs": [],
   "source": [
    "import pandas as pd\n",
    "import matplotlib.pyplot as plt\n",
    "import seaborn as sns\n",
    "from sklearn.preprocessing import StandardScaler, LabelEncoder,MinMaxScaler\n"
   ]
  },
  {
   "cell_type": "code",
   "execution_count": 2,
   "id": "63fda322-a1eb-47d9-9e08-34742c012d62",
   "metadata": {},
   "outputs": [
    {
     "name": "stdout",
     "output_type": "stream",
     "text": [
      "Index(['Class', 'AGE', 'SEX', 'STEROID', 'ANTIVIRALS', 'FATIGUE', 'MALAISE',\n",
      "       'ANOREXIA', 'LIVER BIG', 'LIVER FIRM', 'SPLEEN PALPABLE', 'SPIDERS',\n",
      "       'ASCITES', 'VARICES', 'BILIRUBIN', 'ALK PHOSPHATE', 'SGOT', 'ALBUMIN',\n",
      "       'PROTIME', 'HISTOLOGY'],\n",
      "      dtype='object')\n",
      "   Class  AGE  SEX STEROID  ANTIVIRALS FATIGUE MALAISE ANOREXIA LIVER BIG  \\\n",
      "0      2   30    2       1           2       2       2        2         1   \n",
      "1      2   50    1       1           2       1       2        2         1   \n",
      "2      2   78    1       2           2       1       2        2         2   \n",
      "3      2   31    1       ?           1       2       2        2         2   \n",
      "4      2   34    1       2           2       2       2        2         2   \n",
      "5      2   34    1       2           2       2       2        2         2   \n",
      "6      1   51    1       1           2       1       2        1         2   \n",
      "7      2   23    1       2           2       2       2        2         2   \n",
      "8      2   39    1       2           2       1       2        2         2   \n",
      "9      2   30    1       2           2       2       2        2         2   \n",
      "\n",
      "  LIVER FIRM SPLEEN PALPABLE SPIDERS ASCITES VARICES BILIRUBIN ALK PHOSPHATE  \\\n",
      "0          2               2       2       2       2      1.00            85   \n",
      "1          2               2       2       2       2      0.90           135   \n",
      "2          2               2       2       2       2      0.70            96   \n",
      "3          2               2       2       2       2      0.70            46   \n",
      "4          2               2       2       2       2      1.00             ?   \n",
      "5          2               2       2       2       2      0.90            95   \n",
      "6          2               1       1       2       2         ?             ?   \n",
      "7          2               2       2       2       2      1.00             ?   \n",
      "8          1               2       2       2       2      0.70             ?   \n",
      "9          2               2       2       2       2      1.00             ?   \n",
      "\n",
      "  SGOT ALBUMIN PROTIME  HISTOLOGY  \n",
      "0   18     4.0       ?          1  \n",
      "1   42     3.5       ?          1  \n",
      "2   32     4.0       ?          1  \n",
      "3   52     4.0      80          1  \n",
      "4  200     4.0       ?          1  \n",
      "5   28     4.0      75          1  \n",
      "6    ?       ?       ?          1  \n",
      "7    ?       ?       ?          1  \n",
      "8   48     4.4       ?          1  \n",
      "9  120     3.9       ?          1  \n"
     ]
    }
   ],
   "source": [
    "column_names = [\n",
    "    'Class', \n",
    "    'AGE', \n",
    "    'SEX', \n",
    "    'STEROID', \n",
    "    'ANTIVIRALS', \n",
    "    'FATIGUE', \n",
    "    'MALAISE', \n",
    "    'ANOREXIA', \n",
    "    'LIVER BIG', \n",
    "    'LIVER FIRM', \n",
    "    'SPLEEN PALPABLE', \n",
    "    'SPIDERS', \n",
    "    'ASCITES', \n",
    "    'VARICES', \n",
    "    'BILIRUBIN', \n",
    "    'ALK PHOSPHATE', \n",
    "    'SGOT', \n",
    "    'ALBUMIN', \n",
    "    'PROTIME', \n",
    "    'HISTOLOGY'\n",
    "]\n",
    "df_hepatitis = pd.read_csv('hepatitis/hepatitis.data', header=None, names=column_names)\n",
    "\n",
    "print(df_hepatitis.columns)\n",
    "print(df_hepatitis.head(10))"
   ]
  },
  {
   "cell_type": "code",
   "execution_count": 3,
   "id": "e35f7588-e211-459d-8c21-2da96b16e66b",
   "metadata": {},
   "outputs": [
    {
     "name": "stdout",
     "output_type": "stream",
     "text": [
      "Class              0\n",
      "AGE                0\n",
      "SEX                0\n",
      "STEROID            0\n",
      "ANTIVIRALS         0\n",
      "FATIGUE            0\n",
      "MALAISE            0\n",
      "ANOREXIA           0\n",
      "LIVER BIG          0\n",
      "LIVER FIRM         0\n",
      "SPLEEN PALPABLE    0\n",
      "SPIDERS            0\n",
      "ASCITES            0\n",
      "VARICES            0\n",
      "BILIRUBIN          0\n",
      "ALK PHOSPHATE      0\n",
      "SGOT               0\n",
      "ALBUMIN            0\n",
      "PROTIME            0\n",
      "HISTOLOGY          0\n",
      "dtype: int64\n"
     ]
    }
   ],
   "source": [
    "print(df_hepatitis.isna().sum())"
   ]
  },
  {
   "cell_type": "markdown",
   "id": "abfde0b1-b65b-4fe4-9c69-a3137a307e2b",
   "metadata": {},
   "source": [
    "# Normalizacion de Variables"
   ]
  },
  {
   "cell_type": "markdown",
   "id": "1e21a034-6876-427e-8309-c21c0af72e1f",
   "metadata": {},
   "source": [
    "## Class"
   ]
  },
  {
   "cell_type": "code",
   "execution_count": 4,
   "id": "9685561e-3e4c-4935-bd02-7340e3126aa3",
   "metadata": {},
   "outputs": [
    {
     "data": {
      "text/plain": [
       "Class\n",
       "1    123\n",
       "0     32\n",
       "Name: count, dtype: int64"
      ]
     },
     "execution_count": 4,
     "metadata": {},
     "output_type": "execute_result"
    }
   ],
   "source": [
    "df_hepatitis['Class'] = df_hepatitis['Class'].replace(1,0) #0 DIE\n",
    "df_hepatitis['Class'] = df_hepatitis['Class'].replace(2,1) #1 Survived\n",
    "df_hepatitis['Class'].value_counts()"
   ]
  },
  {
   "cell_type": "markdown",
   "id": "60712626-465e-4614-9cf2-75df1641482e",
   "metadata": {},
   "source": [
    "## Age"
   ]
  },
  {
   "cell_type": "code",
   "execution_count": 5,
   "id": "9ddd2850-09fc-477d-b24b-5ba2d6d10d13",
   "metadata": {},
   "outputs": [
    {
     "name": "stdout",
     "output_type": "stream",
     "text": [
      "0      30\n",
      "1      50\n",
      "2      78\n",
      "3      31\n",
      "4      34\n",
      "       ..\n",
      "150    46\n",
      "151    44\n",
      "152    61\n",
      "153    53\n",
      "154    43\n",
      "Name: AGE, Length: 155, dtype: int64\n",
      "41.2\n",
      "int64\n"
     ]
    }
   ],
   "source": [
    "print(df_hepatitis['AGE'])\n",
    "print(df_hepatitis['AGE'].mean())\n",
    "print(df_hepatitis['AGE'].dtype)"
   ]
  },
  {
   "cell_type": "code",
   "execution_count": 6,
   "id": "a874ccdc-c1dc-45e2-9b3e-87c0daa155a0",
   "metadata": {},
   "outputs": [
    {
     "data": {
      "image/png": "[encoded data removed]",
      "text/plain": [
       "<Figure size 640x480 with 1 Axes>"
      ]
     },
     "metadata": {},
     "output_type": "display_data"
    }
   ],
   "source": [
    "df_hepatitis['AGE'].hist(bins=10)\n",
    "plt.xlabel('Edad')\n",
    "plt.ylabel('Frecuencia')\n",
    "plt.title('Histograma de AGE')\n",
    "plt.show()"
   ]
  },
  {
   "cell_type": "code",
   "execution_count": 7,
   "id": "66601609-b137-4253-9cab-3bb0467f86f6",
   "metadata": {},
   "outputs": [],
   "source": [
    "scaler = StandardScaler()\n",
    "df_hepatitis['AGE'] = scaler.fit_transform(df_hepatitis[['AGE']])"
   ]
  },
  {
   "cell_type": "code",
   "execution_count": 8,
   "id": "0147ec42-387c-479d-9f21-d6511da4d597",
   "metadata": {},
   "outputs": [
    {
     "data": {
      "image/png": "[encoded data removed]",
      "text/plain": [
       "<Figure size 640x480 with 1 Axes>"
      ]
     },
     "metadata": {},
     "output_type": "display_data"
    }
   ],
   "source": [
    "df_hepatitis['AGE'].hist(bins=10)\n",
    "plt.xlabel('Edad')\n",
    "plt.ylabel('Frecuencia')\n",
    "plt.title('Histograma de AGE')\n",
    "plt.show()"
   ]
  },
  {
   "cell_type": "markdown",
   "id": "af713eec-de56-487b-9832-d59f16fcdf77",
   "metadata": {
    "jp-MarkdownHeadingCollapsed": true
   },
   "source": [
    "## SEX"
   ]
  },
  {
   "cell_type": "code",
   "execution_count": 9,
   "id": "f96b124a-13f2-4f7f-b68e-33153ce53fe2",
   "metadata": {},
   "outputs": [
    {
     "name": "stdout",
     "output_type": "stream",
     "text": [
      "0      2\n",
      "1      1\n",
      "2      1\n",
      "3      1\n",
      "4      1\n",
      "      ..\n",
      "150    1\n",
      "151    1\n",
      "152    1\n",
      "153    2\n",
      "154    1\n",
      "Name: SEX, Length: 155, dtype: int64\n"
     ]
    }
   ],
   "source": [
    "print(df_hepatitis['SEX'])"
   ]
  },
  {
   "cell_type": "code",
   "execution_count": 10,
   "id": "f258693f-368a-421d-9b7b-c6649e1e1978",
   "metadata": {},
   "outputs": [
    {
     "data": {
      "text/plain": [
       "SEX\n",
       "0    139\n",
       "1     16\n",
       "Name: count, dtype: int64"
      ]
     },
     "execution_count": 10,
     "metadata": {},
     "output_type": "execute_result"
    }
   ],
   "source": [
    "df_hepatitis['SEX'] = df_hepatitis['SEX'].replace(1,0) #0 Male\n",
    "df_hepatitis['SEX'] = df_hepatitis['SEX'].replace(2,1) #1 Female\n",
    "df_hepatitis['SEX'].value_counts()"
   ]
  },
  {
   "cell_type": "code",
   "execution_count": null,
   "id": "296ce5c8-962c-44b0-a89b-9748566aeda0",
   "metadata": {},
   "outputs": [],
   "source": []
  },
  {
   "cell_type": "markdown",
   "id": "5d254a3c-c563-4ae3-9ba9-502df35e0007",
   "metadata": {
    "jp-MarkdownHeadingCollapsed": true
   },
   "source": [
    "## STEROID"
   ]
  },
  {
   "cell_type": "code",
   "execution_count": 11,
   "id": "953ecefa-9c1f-402c-8e57-d2c2ffaf215f",
   "metadata": {},
   "outputs": [
    {
     "data": {
      "text/plain": [
       "STEROID\n",
       "1    79\n",
       "0    76\n",
       "Name: count, dtype: int64"
      ]
     },
     "execution_count": 11,
     "metadata": {},
     "output_type": "execute_result"
    }
   ],
   "source": [
    "df_hepatitis['STEROID'] = df_hepatitis['STEROID'].replace('?',2) #Reemplazamos por la moda\n",
    "df_hepatitis['STEROID'] = df_hepatitis['STEROID'].astype(int) # Pasamos de Object a interger\n",
    "\n",
    "df_hepatitis['STEROID'] = df_hepatitis['STEROID'].replace(1,0) #0 NO\n",
    "df_hepatitis['STEROID'] = df_hepatitis['STEROID'].replace(2,1) #1 YES\n",
    "df_hepatitis['STEROID'].value_counts()\n"
   ]
  },
  {
   "cell_type": "markdown",
   "id": "2a8974c7-9c01-4677-a4c7-ac80c6c4c37c",
   "metadata": {
    "jp-MarkdownHeadingCollapsed": true
   },
   "source": [
    "## FATIGUE"
   ]
  },
  {
   "cell_type": "code",
   "execution_count": 17,
   "id": "d59936c6-b8dd-45c3-89f5-6f745a13e237",
   "metadata": {},
   "outputs": [
    {
     "data": {
      "text/plain": [
       "FATIGUE\n",
       "0    101\n",
       "1     54\n",
       "Name: count, dtype: int64"
      ]
     },
     "execution_count": 17,
     "metadata": {},
     "output_type": "execute_result"
    }
   ],
   "source": [
    "df_hepatitis['FATIGUE'] = df_hepatitis['FATIGUE'].replace('?',1) #Reemplazamos por la moda\n",
    "df_hepatitis['FATIGUE'] = df_hepatitis['FATIGUE'].astype(int) # Pasamos de Object a interger\n",
    "\n",
    "df_hepatitis['FATIGUE'] = df_hepatitis['FATIGUE'].replace(1,0) #0 NO\n",
    "df_hepatitis['FATIGUE'] = df_hepatitis['FATIGUE'].replace(2,1) #1 YES\n",
    "df_hepatitis['FATIGUE'].value_counts()"
   ]
  },
  {
   "cell_type": "markdown",
   "id": "448aac7f-51df-4e07-b6c9-bf1deb330bf5",
   "metadata": {
    "jp-MarkdownHeadingCollapsed": true
   },
   "source": [
    "## MALAISE"
   ]
  },
  {
   "cell_type": "code",
   "execution_count": 20,
   "id": "ea4d7799-2d87-4ffa-b449-087993d59d3e",
   "metadata": {},
   "outputs": [
    {
     "data": {
      "text/plain": [
       "MALAISE\n",
       "2    93\n",
       "1    61\n",
       "?     1\n",
       "Name: count, dtype: int64"
      ]
     },
     "execution_count": 20,
     "metadata": {},
     "output_type": "execute_result"
    }
   ],
   "source": [
    "df_hepatitis['MALAISE'].value_counts()"
   ]
  },
  {
   "cell_type": "code",
   "execution_count": 21,
   "id": "07c17c3a-2966-4eff-8611-75aca1a29597",
   "metadata": {},
   "outputs": [
    {
     "data": {
      "text/plain": [
       "MALAISE\n",
       "1    94\n",
       "0    61\n",
       "Name: count, dtype: int64"
      ]
     },
     "execution_count": 21,
     "metadata": {},
     "output_type": "execute_result"
    }
   ],
   "source": [
    "df_hepatitis['MALAISE'] = df_hepatitis['MALAISE'].replace('?',2) #Reemplazamos por la moda\n",
    "df_hepatitis['MALAISE'] = df_hepatitis['MALAISE'].astype(int) # Pasamos de Object a interger\n",
    "\n",
    "df_hepatitis['MALAISE'] = df_hepatitis['MALAISE'].replace(1,0) #0 NO\n",
    "df_hepatitis['MALAISE'] = df_hepatitis['MALAISE'].replace(2,1) #1 YES\n",
    "df_hepatitis['MALAISE'].value_counts()"
   ]
  },
  {
   "cell_type": "markdown",
   "id": "c1b14acf-e171-4311-9be6-2206027c650d",
   "metadata": {
    "jp-MarkdownHeadingCollapsed": true
   },
   "source": [
    "## ANOREXIA"
   ]
  },
  {
   "cell_type": "code",
   "execution_count": 22,
   "id": "5d7daf6b-4610-4c86-91d4-415ba908c959",
   "metadata": {},
   "outputs": [
    {
     "data": {
      "text/plain": [
       "ANOREXIA\n",
       "2    122\n",
       "1     32\n",
       "?      1\n",
       "Name: count, dtype: int64"
      ]
     },
     "execution_count": 22,
     "metadata": {},
     "output_type": "execute_result"
    }
   ],
   "source": [
    "df_hepatitis['ANOREXIA'].value_counts()"
   ]
  },
  {
   "cell_type": "code",
   "execution_count": 23,
   "id": "806fbad5-dafc-470f-87db-79bd2bfe3c30",
   "metadata": {},
   "outputs": [
    {
     "data": {
      "text/plain": [
       "ANOREXIA\n",
       "1    123\n",
       "0     32\n",
       "Name: count, dtype: int64"
      ]
     },
     "execution_count": 23,
     "metadata": {},
     "output_type": "execute_result"
    }
   ],
   "source": [
    "df_hepatitis['ANOREXIA'] = df_hepatitis['ANOREXIA'].replace('?',2) #Reemplazamos por la moda\n",
    "df_hepatitis['ANOREXIA'] = df_hepatitis['ANOREXIA'].astype(int) # Pasamos de Object a interger\n",
    "\n",
    "df_hepatitis['ANOREXIA'] = df_hepatitis['ANOREXIA'].replace(1,0) #0 NO\n",
    "df_hepatitis['ANOREXIA'] = df_hepatitis['ANOREXIA'].replace(2,1) #1 YES\n",
    "df_hepatitis['ANOREXIA'].value_counts()"
   ]
  },
  {
   "cell_type": "markdown",
   "id": "8c7dbb45-e385-4334-b355-b082f919e471",
   "metadata": {
    "jp-MarkdownHeadingCollapsed": true
   },
   "source": [
    "## LIVER BIG"
   ]
  },
  {
   "cell_type": "code",
   "execution_count": 24,
   "id": "8d357a02-5d1d-45ab-8526-0fc230192dab",
   "metadata": {},
   "outputs": [
    {
     "data": {
      "text/plain": [
       "LIVER BIG\n",
       "2    120\n",
       "1     25\n",
       "?     10\n",
       "Name: count, dtype: int64"
      ]
     },
     "execution_count": 24,
     "metadata": {},
     "output_type": "execute_result"
    }
   ],
   "source": [
    "df_hepatitis['LIVER BIG'].value_counts()"
   ]
  },
  {
   "cell_type": "code",
   "execution_count": 25,
   "id": "3af1f468-e6b0-4358-8698-91f6bdcb8ec3",
   "metadata": {},
   "outputs": [
    {
     "data": {
      "text/plain": [
       "LIVER BIG\n",
       "1    130\n",
       "0     25\n",
       "Name: count, dtype: int64"
      ]
     },
     "execution_count": 25,
     "metadata": {},
     "output_type": "execute_result"
    }
   ],
   "source": [
    "df_hepatitis['LIVER BIG'] = df_hepatitis['LIVER BIG'].replace('?',2) #Reemplazamos por la moda\n",
    "df_hepatitis['LIVER BIG'] = df_hepatitis['LIVER BIG'].astype(int) # Pasamos de Object a interger\n",
    "\n",
    "df_hepatitis['LIVER BIG'] = df_hepatitis['LIVER BIG'].replace(1,0) #0 NO\n",
    "df_hepatitis['LIVER BIG'] = df_hepatitis['LIVER BIG'].replace(2,1) #1 YES\n",
    "df_hepatitis['LIVER BIG'].value_counts()"
   ]
  },
  {
   "cell_type": "markdown",
   "id": "6938926f-013f-4496-bf9e-0782c7922cb9",
   "metadata": {
    "jp-MarkdownHeadingCollapsed": true
   },
   "source": [
    "## LIVER FIRM"
   ]
  },
  {
   "cell_type": "code",
   "execution_count": 26,
   "id": "98f6f31a-4e44-4658-b9a8-91902a15374e",
   "metadata": {},
   "outputs": [
    {
     "data": {
      "text/plain": [
       "LIVER FIRM\n",
       "2    84\n",
       "1    60\n",
       "?    11\n",
       "Name: count, dtype: int64"
      ]
     },
     "execution_count": 26,
     "metadata": {},
     "output_type": "execute_result"
    }
   ],
   "source": [
    "df_hepatitis['LIVER FIRM'].value_counts()"
   ]
  },
  {
   "cell_type": "code",
   "execution_count": 29,
   "id": "726d2fff-9584-4888-85ea-2f9524377710",
   "metadata": {},
   "outputs": [
    {
     "data": {
      "text/plain": [
       "LIVER FIRM\n",
       "1    95\n",
       "0    60\n",
       "Name: count, dtype: int64"
      ]
     },
     "execution_count": 29,
     "metadata": {},
     "output_type": "execute_result"
    }
   ],
   "source": [
    "df_hepatitis['LIVER FIRM'] = df_hepatitis['LIVER FIRM'].replace('?',2) #Reemplazamos por la moda\n",
    "df_hepatitis['LIVER FIRM'] = df_hepatitis['LIVER FIRM'].astype(int) # Pasamos de Object a interger\n",
    "\n",
    "df_hepatitis['LIVER FIRM'] = df_hepatitis['LIVER FIRM'].replace(1,0) #0 NO\n",
    "df_hepatitis['LIVER FIRM'] = df_hepatitis['LIVER FIRM'].replace(2,1) #1 YES\n",
    "df_hepatitis['LIVER FIRM'].value_counts()"
   ]
  },
  {
   "cell_type": "markdown",
   "id": "23f12d37-acad-41d7-84a6-40d12cf49003",
   "metadata": {
    "jp-MarkdownHeadingCollapsed": true
   },
   "source": [
    "## SPLEEN PALPABLE"
   ]
  },
  {
   "cell_type": "code",
   "execution_count": 30,
   "id": "b5a210ee-0a90-461c-8433-d1c5dd6e6332",
   "metadata": {},
   "outputs": [
    {
     "data": {
      "text/plain": [
       "SPLEEN PALPABLE\n",
       "2    120\n",
       "1     30\n",
       "?      5\n",
       "Name: count, dtype: int64"
      ]
     },
     "execution_count": 30,
     "metadata": {},
     "output_type": "execute_result"
    }
   ],
   "source": [
    "df_hepatitis['SPLEEN PALPABLE'].value_counts()"
   ]
  },
  {
   "cell_type": "code",
   "execution_count": 31,
   "id": "f7e366c0-5faf-4de0-8f06-c138640bfd98",
   "metadata": {},
   "outputs": [
    {
     "data": {
      "text/plain": [
       "SPLEEN PALPABLE\n",
       "1    125\n",
       "0     30\n",
       "Name: count, dtype: int64"
      ]
     },
     "execution_count": 31,
     "metadata": {},
     "output_type": "execute_result"
    }
   ],
   "source": [
    "df_hepatitis['SPLEEN PALPABLE'] = df_hepatitis['SPLEEN PALPABLE'].replace('?',2) #Reemplazamos por la moda\n",
    "df_hepatitis['SPLEEN PALPABLE'] = df_hepatitis['SPLEEN PALPABLE'].astype(int) # Pasamos de Object a interger\n",
    "\n",
    "df_hepatitis['SPLEEN PALPABLE'] = df_hepatitis['SPLEEN PALPABLE'].replace(1,0) #0 NO\n",
    "df_hepatitis['SPLEEN PALPABLE'] = df_hepatitis['SPLEEN PALPABLE'].replace(2,1) #1 YES\n",
    "df_hepatitis['SPLEEN PALPABLE'].value_counts()"
   ]
  },
  {
   "cell_type": "markdown",
   "id": "268ce8e3-d48f-4f3c-b2fe-2c3dcb12fb50",
   "metadata": {
    "jp-MarkdownHeadingCollapsed": true
   },
   "source": [
    "## SPIDERS"
   ]
  },
  {
   "cell_type": "code",
   "execution_count": 32,
   "id": "6b51158b-cfc8-46b7-910b-8eaef846b474",
   "metadata": {},
   "outputs": [
    {
     "data": {
      "text/plain": [
       "SPIDERS\n",
       "2    99\n",
       "1    51\n",
       "?     5\n",
       "Name: count, dtype: int64"
      ]
     },
     "execution_count": 32,
     "metadata": {},
     "output_type": "execute_result"
    }
   ],
   "source": [
    "df_hepatitis['SPIDERS'].value_counts()"
   ]
  },
  {
   "cell_type": "code",
   "execution_count": 33,
   "id": "b6328335-56ba-427c-9078-e8bfb40855bc",
   "metadata": {},
   "outputs": [
    {
     "data": {
      "text/plain": [
       "SPIDERS\n",
       "1    104\n",
       "0     51\n",
       "Name: count, dtype: int64"
      ]
     },
     "execution_count": 33,
     "metadata": {},
     "output_type": "execute_result"
    }
   ],
   "source": [
    "df_hepatitis['SPIDERS'] = df_hepatitis['SPIDERS'].replace('?',2) #Reemplazamos por la moda\n",
    "df_hepatitis['SPIDERS'] = df_hepatitis['SPIDERS'].astype(int) # Pasamos de Object a interger\n",
    "\n",
    "df_hepatitis['SPIDERS'] = df_hepatitis['SPIDERS'].replace(1,0) #0 NO\n",
    "df_hepatitis['SPIDERS'] = df_hepatitis['SPIDERS'].replace(2,1) #1 YES\n",
    "df_hepatitis['SPIDERS'].value_counts()"
   ]
  },
  {
   "cell_type": "markdown",
   "id": "b3ef7a35-1847-43f8-88bd-0674446a668d",
   "metadata": {
    "jp-MarkdownHeadingCollapsed": true
   },
   "source": [
    "## ASCITES"
   ]
  },
  {
   "cell_type": "code",
   "execution_count": 34,
   "id": "090ecf27-b10e-462a-9b30-4207ffb9376a",
   "metadata": {},
   "outputs": [
    {
     "data": {
      "text/plain": [
       "ASCITES\n",
       "2    130\n",
       "1     20\n",
       "?      5\n",
       "Name: count, dtype: int64"
      ]
     },
     "execution_count": 34,
     "metadata": {},
     "output_type": "execute_result"
    }
   ],
   "source": [
    "df_hepatitis['ASCITES'].value_counts()"
   ]
  },
  {
   "cell_type": "code",
   "execution_count": 35,
   "id": "4ff6bf26-3e41-4ec6-b5ca-0624c72c073a",
   "metadata": {},
   "outputs": [
    {
     "data": {
      "text/plain": [
       "ASCITES\n",
       "1    135\n",
       "0     20\n",
       "Name: count, dtype: int64"
      ]
     },
     "execution_count": 35,
     "metadata": {},
     "output_type": "execute_result"
    }
   ],
   "source": [
    "df_hepatitis['ASCITES'] = df_hepatitis['ASCITES'].replace('?',2) #Reemplazamos por la moda\n",
    "df_hepatitis['ASCITES'] = df_hepatitis['ASCITES'].astype(int) # Pasamos de Object a interger\n",
    "\n",
    "df_hepatitis['ASCITES'] = df_hepatitis['ASCITES'].replace(1,0) #0 NO\n",
    "df_hepatitis['ASCITES'] = df_hepatitis['ASCITES'].replace(2,1) #1 YES\n",
    "df_hepatitis['ASCITES'].value_counts()"
   ]
  },
  {
   "cell_type": "markdown",
   "id": "0e6ca755-d40b-467d-8e30-e71071da83e7",
   "metadata": {},
   "source": [
    "## VARICES"
   ]
  },
  {
   "cell_type": "code",
   "execution_count": 36,
   "id": "2224ee60-5b2e-41c0-afdf-01a4414e1fdc",
   "metadata": {},
   "outputs": [
    {
     "data": {
      "text/plain": [
       "VARICES\n",
       "2    132\n",
       "1     18\n",
       "?      5\n",
       "Name: count, dtype: int64"
      ]
     },
     "execution_count": 36,
     "metadata": {},
     "output_type": "execute_result"
    }
   ],
   "source": [
    "df_hepatitis['VARICES'].value_counts()"
   ]
  },
  {
   "cell_type": "code",
   "execution_count": 37,
   "id": "70ecb8e7-186f-460a-9387-ed968ef0bb87",
   "metadata": {},
   "outputs": [
    {
     "data": {
      "text/plain": [
       "VARICES\n",
       "1    137\n",
       "0     18\n",
       "Name: count, dtype: int64"
      ]
     },
     "execution_count": 37,
     "metadata": {},
     "output_type": "execute_result"
    }
   ],
   "source": [
    "df_hepatitis['VARICES'] = df_hepatitis['VARICES'].replace('?',2) #Reemplazamos por la moda\n",
    "df_hepatitis['VARICES'] = df_hepatitis['VARICES'].astype(int) # Pasamos de Object a interger\n",
    "\n",
    "df_hepatitis['VARICES'] = df_hepatitis['VARICES'].replace(1,0) #0 NO\n",
    "df_hepatitis['VARICES'] = df_hepatitis['VARICES'].replace(2,1) #1 YES\n",
    "df_hepatitis['VARICES'].value_counts()"
   ]
  },
  {
   "cell_type": "markdown",
   "id": "2c61b148-d494-4626-b15e-fcb4f733cea6",
   "metadata": {},
   "source": [
    "## BILIRUBIN"
   ]
  },
  {
   "cell_type": "code",
   "execution_count": 43,
   "id": "c7b89c06-1dcc-4984-a7ed-ec22fe5974ca",
   "metadata": {},
   "outputs": [
    {
     "data": {
      "text/plain": [
       "BILIRUBIN\n",
       "1.00    29\n",
       "0.70    23\n",
       "0.90    13\n",
       "0.60    10\n",
       "0.80    10\n",
       "1.20     8\n",
       "1.50     7\n",
       "?        6\n",
       "1.30     6\n",
       "4.60     4\n",
       "2.00     4\n",
       "1.60     3\n",
       "2.30     3\n",
       "1.70     3\n",
       "0.50     2\n",
       "1.40     2\n",
       "0.40     2\n",
       "2.80     2\n",
       "3.20     2\n",
       "1.90     1\n",
       "3.90     1\n",
       "8.00     1\n",
       "4.20     1\n",
       "2.90     1\n",
       "1.10     1\n",
       "3.50     1\n",
       "2.40     1\n",
       "4.80     1\n",
       "3.00     1\n",
       "2.50     1\n",
       "4.10     1\n",
       "1.80     1\n",
       "0.30     1\n",
       "2.20     1\n",
       "7.60     1\n",
       "Name: count, dtype: int64"
      ]
     },
     "execution_count": 43,
     "metadata": {},
     "output_type": "execute_result"
    }
   ],
   "source": [
    "df_hepatitis['BILIRUBIN'].value_counts()"
   ]
  },
  {
   "cell_type": "code",
   "execution_count": 53,
   "id": "ceacfb8b-bbc6-46d1-ae2f-745069b48694",
   "metadata": {},
   "outputs": [
    {
     "name": "stdout",
     "output_type": "stream",
     "text": [
      "1.0\n"
     ]
    },
    {
     "name": "stderr",
     "output_type": "stream",
     "text": [
      "C:\\Users\\marco\\AppData\\Local\\Temp\\ipykernel_40484\\2910914100.py:4: SettingWithCopyWarning: \n",
      "A value is trying to be set on a copy of a slice from a DataFrame.\n",
      "Try using .loc[row_indexer,col_indexer] = value instead\n",
      "\n",
      "See the caveats in the documentation: https://pandas.pydata.org/pandas-docs/stable/user_guide/indexing.html#returning-a-view-versus-a-copy\n",
      "  df_bilirubin['BILIRUBIN'] = df_bilirubin['BILIRUBIN'].astype(float) # Pasamos de Object a interger\n"
     ]
    }
   ],
   "source": [
    "df_bilirubin = df_hepatitis\n",
    "df_bilirubin = df_bilirubin[df_bilirubin['BILIRUBIN'] != '?']\n",
    "\n",
    "df_bilirubin['BILIRUBIN'] = df_bilirubin['BILIRUBIN'].astype(float) # Pasamos de Object a interger\n",
    "\n",
    "mean_bilirubin = df_bilirubin['BILIRUBIN'].mode()\n",
    "print(mean_bilirubin[0])\n",
    "#df_hepatitis['BILIRUBIN'] =df_hepatitis['BILIRUBIN'].replace('?', mean_bilirubin) "
   ]
  },
  {
   "cell_type": "code",
   "execution_count": null,
   "id": "b1676b7d-9d37-40ce-9576-0e3e2617ddda",
   "metadata": {},
   "outputs": [],
   "source": []
  },
  {
   "cell_type": "code",
   "execution_count": 41,
   "id": "56f77960-aae7-4094-bb7b-c30910eefee2",
   "metadata": {},
   "outputs": [
    {
     "data": {
      "image/png": "[encoded data removed]",
      "text/plain": [
       "<Figure size 640x480 with 1 Axes>"
      ]
     },
     "metadata": {},
     "output_type": "display_data"
    }
   ],
   "source": [
    "df_hepatitis['BILIRUBIN'].hist(bins=)\n",
    "plt.xlabel('BILIRUBIN')\n",
    "plt.ylabel('Frecuencia')\n",
    "plt.title('Histograma de BILIRUBIN')\n",
    "plt.show()"
   ]
  },
  {
   "cell_type": "code",
   "execution_count": null,
   "id": "f2d27d07-bc63-4466-9fb4-980a7f973d39",
   "metadata": {},
   "outputs": [],
   "source": [
    "## ALK PHOSPHATE"
   ]
  },
  {
   "cell_type": "code",
   "execution_count": null,
   "id": "e5b45b65-031b-4dee-8bc1-a48f6d619cd0",
   "metadata": {},
   "outputs": [],
   "source": [
    "## SGOT"
   ]
  },
  {
   "cell_type": "code",
   "execution_count": null,
   "id": "cbff1e84-6f70-49a9-8235-9605e46c7cf2",
   "metadata": {},
   "outputs": [],
   "source": [
    "## ALBUMIN"
   ]
  },
  {
   "cell_type": "code",
   "execution_count": null,
   "id": "48a54ff6-95e9-4793-b3eb-04cf2f3af071",
   "metadata": {},
   "outputs": [],
   "source": [
    "## PROTIME"
   ]
  },
  {
   "cell_type": "code",
   "execution_count": null,
   "id": "2416a6d6-e626-4112-82c5-574425a82462",
   "metadata": {},
   "outputs": [],
   "source": [
    "## HISTOLOGY"
   ]
  },
  {
   "cell_type": "code",
   "execution_count": null,
   "id": "f75cf207-8c45-44a3-9c59-f66fc84ad4bb",
   "metadata": {},
   "outputs": [],
   "source": []
  }
 ],
 "metadata": {
  "kernelspec": {
   "display_name": "Python 3 (ipykernel)",
   "language": "python",
   "name": "python3"
  },
  "language_info": {
   "codemirror_mode": {
    "name": "ipython",
    "version": 3
   },
   "file_extension": ".py",
   "mimetype": "text/x-python",
   "name": "python",
   "nbconvert_exporter": "python",
   "pygments_lexer": "ipython3",
   "version": "3.12.3"
  }
 },
 "nbformat": 4,
 "nbformat_minor": 5
}
