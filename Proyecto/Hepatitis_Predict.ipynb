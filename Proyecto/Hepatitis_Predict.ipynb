{
 "cells": [
  {
   "cell_type": "markdown",
   "id": "bdc8b738-5be2-4453-aa87-1ab9ee401976",
   "metadata": {},
   "source": [
    "Attribute information:\n",
    "\n",
    "     1. Class: DIE, LIVE\n",
    "     \n",
    "     2. AGE: 10, 20, 30, 40, 50, 60, 70, 80\n",
    "     \n",
    "     3. SEX: male, female\n",
    "     \n",
    "     4. STEROID: no, yes\n",
    "     \n",
    "     5. ANTIVIRALS: no, yes\n",
    "     \n",
    "     6. FATIGUE: no, yes\n",
    "     \n",
    "     7. MALAISE: no, yes\n",
    "     \n",
    "     8. ANOREXIA: no, yes\n",
    "     \n",
    "     9. LIVER BIG: no, yes\n",
    "     \n",
    "    10. LIVER FIRM: no, yes\n",
    "    \n",
    "    11. SPLEEN PALPABLE: no, yes\n",
    "    \n",
    "    12. SPIDERS: no, yes\n",
    "    \n",
    "    13. ASCITES: no, yes\n",
    "    \n",
    "    14. VARICES: no, yes\n",
    "    \n",
    "    15. BILIRUBIN: 0.39, 0.80, 1.20, 2.00, 3.00, 4.00\n",
    "        -- see the note below\n",
    "        \n",
    "    16. ALK PHOSPHATE: 33, 80, 120, 160, 200, 250\n",
    "    \n",
    "    17. SGOT: 13, 100, 200, 300, 400, 500, \n",
    "    \n",
    "    18. ALBUMIN: 2.1, 3.0, 3.8, 4.5, 5.0, 6.0\n",
    "    \n",
    "    19. PROTIME: 10, 20, 30, 40, 50, 60, 70, 80, 90\n",
    "    \n",
    "    20. HISTOLOGY: no, yes"
   ]
  },
  {
   "cell_type": "code",
   "execution_count": 2,
   "id": "304c0ee1-b145-49b1-b674-00fb9edbd8be",
   "metadata": {},
   "outputs": [],
   "source": [
    "import pandas as pd"
   ]
  },
  {
   "cell_type": "code",
   "execution_count": 4,
   "id": "63fda322-a1eb-47d9-9e08-34742c012d62",
   "metadata": {},
   "outputs": [
    {
     "name": "stdout",
     "output_type": "stream",
     "text": [
      "Index(['2', '30', '2.1', '1', '2.2', '2.3', '2.4', '2.5', '1.1', '2.6', '2.7',\n",
      "       '2.8', '2.9', '2.10', '1.00', '85', '18', '4.0', '?', '1.2'],\n",
      "      dtype='object')\n",
      "   2  30  2.1  1  2.2 2.3 2.4 2.5 1.1 2.6 2.7 2.8 2.9 2.10  1.00   85   18  \\\n",
      "0  2  50    1  1    2   1   2   2   1   2   2   2   2    2  0.90  135   42   \n",
      "1  2  78    1  2    2   1   2   2   2   2   2   2   2    2  0.70   96   32   \n",
      "2  2  31    1  ?    1   2   2   2   2   2   2   2   2    2  0.70   46   52   \n",
      "3  2  34    1  2    2   2   2   2   2   2   2   2   2    2  1.00    ?  200   \n",
      "4  2  34    1  2    2   2   2   2   2   2   2   2   2    2  0.90   95   28   \n",
      "5  1  51    1  1    2   1   2   1   2   2   1   1   2    2     ?    ?    ?   \n",
      "6  2  23    1  2    2   2   2   2   2   2   2   2   2    2  1.00    ?    ?   \n",
      "7  2  39    1  2    2   1   2   2   2   1   2   2   2    2  0.70    ?   48   \n",
      "8  2  30    1  2    2   2   2   2   2   2   2   2   2    2  1.00    ?  120   \n",
      "9  2  39    1  1    1   2   2   2   1   1   2   2   2    2  1.30   78   30   \n",
      "\n",
      "   4.0   ?  1.2  \n",
      "0  3.5   ?    1  \n",
      "1  4.0   ?    1  \n",
      "2  4.0  80    1  \n",
      "3  4.0   ?    1  \n",
      "4  4.0  75    1  \n",
      "5    ?   ?    1  \n",
      "6    ?   ?    1  \n",
      "7  4.4   ?    1  \n",
      "8  3.9   ?    1  \n",
      "9  4.4  85    1  \n"
     ]
    }
   ],
   "source": [
    "column_names = [\n",
    "    'Class', \n",
    "    'AGE', \n",
    "    'SEX', \n",
    "    'STEROID', \n",
    "    'ANTIVIRALS', \n",
    "    'FATIGUE', \n",
    "    'MALAISE', \n",
    "    'ANOREXIA', \n",
    "    'LIVER BIG', \n",
    "    'LIVER FIRM', \n",
    "    'SPLEEN PALPABLE', \n",
    "    'SPIDERS', \n",
    "    'ASCITES', \n",
    "    'VARICES', \n",
    "    'BILIRUBIN', \n",
    "    'ALK PHOSPHATE', \n",
    "    'SGOT', \n",
    "    'ALBUMIN', \n",
    "    'PROTIME', \n",
    "    'HISTOLOGY'\n",
    "]\n",
    "df_hepatitis = pd.read_csv('hepatitis/hepatitis.data', header=None, names=column_names)\n",
    "\n",
    "print(df_hepatitis.columns)\n",
    "print(df_hepatitis.head(10))"
   ]
  },
  {
   "cell_type": "code",
   "execution_count": null,
   "id": "e35f7588-e211-459d-8c21-2da96b16e66b",
   "metadata": {},
   "outputs": [],
   "source": []
  }
 ],
 "metadata": {
  "kernelspec": {
   "display_name": "Python 3",
   "language": "python",
   "name": "python3"
  },
  "language_info": {
   "codemirror_mode": {
    "name": "ipython",
    "version": 3
   },
   "file_extension": ".py",
   "mimetype": "text/x-python",
   "name": "python",
   "nbconvert_exporter": "python",
   "pygments_lexer": "ipython3",
   "version": "3.13.0"
  }
 },
 "nbformat": 4,
 "nbformat_minor": 5
}
