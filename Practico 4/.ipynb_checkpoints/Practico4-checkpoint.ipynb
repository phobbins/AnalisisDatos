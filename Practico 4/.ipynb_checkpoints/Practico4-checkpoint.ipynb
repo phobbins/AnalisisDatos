{
 "cells": [
  {
   "cell_type": "code",
   "execution_count": 1,
   "id": "cbfd4487-3497-43ee-a157-785fcc6d1784",
   "metadata": {},
   "outputs": [],
   "source": [
    "#%% Importar librerias\n",
    "import pandas as pd\n",
    "import numpy as np\n",
    "from sklearn.decomposition import PCA\n",
    "from sklearn.preprocessing import StandardScaler\n",
    "import matplotlib.pyplot as plt\n",
    "import seaborn as sns"
   ]
  },
  {
   "cell_type": "markdown",
   "id": "5f05fdf5-f01d-4829-8e37-189749434117",
   "metadata": {},
   "source": [
    "# Carga de datos"
   ]
  },
  {
   "cell_type": "code",
   "execution_count": 2,
   "id": "b1b62cc9-6120-45de-a9ed-1d7d6a848ab3",
   "metadata": {
    "scrolled": true
   },
   "outputs": [
    {
     "name": "stdout",
     "output_type": "stream",
     "text": [
      "Las columnas son Index(['Survived', 'Pclass', 'Name', 'Sex', 'Age', 'SibSp', 'Parch', 'Ticket',\n",
      "       'Fare', 'Cabin', 'Embarked'],\n",
      "      dtype='object')\n",
      "Las forma es (891, 11)\n",
      "Los datos faltantes son Survived      0\n",
      "Pclass        0\n",
      "Name          0\n",
      "Sex           0\n",
      "Age         177\n",
      "SibSp         0\n",
      "Parch         0\n",
      "Ticket        0\n",
      "Fare          0\n",
      "Cabin       687\n",
      "Embarked      2\n",
      "dtype: int64\n"
     ]
    }
   ],
   "source": [
    "df_titanic = pd.read_csv('Titanic.csv')\n",
    "\n",
    "df_titanic = df_titanic.drop(columns = 'PassengerId')\n",
    "\n",
    "print(f\"Las columnas son {df_titanic.columns}\")\n",
    "print(f\"Las forma es {df_titanic.shape}\")\n",
    "print(f\"Los datos faltantes son {df_titanic.isnull().sum()}\")"
   ]
  },
  {
   "cell_type": "markdown",
   "id": "c49eb326-5c8e-4f84-9f82-bd17773648e4",
   "metadata": {},
   "source": [
    "# Tratamiento de datos"
   ]
  },
  {
   "cell_type": "markdown",
   "id": "8abdc39f-0991-45a1-9c51-0c1f312aeacc",
   "metadata": {},
   "source": [
    "Los datos faltantes son \n",
    "\n",
    "Age         177\n",
    "\n",
    "Cabin       687\n",
    "\n",
    "Embarked      2\n"
   ]
  },
  {
   "cell_type": "code",
   "execution_count": 3,
   "id": "27111d3f-9b6f-47ba-8730-701e92dfd6c0",
   "metadata": {},
   "outputs": [
    {
     "name": "stdout",
     "output_type": "stream",
     "text": [
      "[nan 'C85' 'C123' 'E46' 'G6' 'C103' 'D56' 'A6' 'C23 C25 C27' 'B78' 'D33'\n",
      " 'B30' 'C52' 'B28' 'C83' 'F33' 'F G73' 'E31' 'A5' 'D10 D12' 'D26' 'C110'\n",
      " 'B58 B60' 'E101' 'F E69' 'D47' 'B86' 'F2' 'C2' 'E33' 'B19' 'A7' 'C49'\n",
      " 'F4' 'A32' 'B4' 'B80' 'A31' 'D36' 'D15' 'C93' 'C78' 'D35' 'C87' 'B77'\n",
      " 'E67' 'B94' 'C125' 'C99' 'C118' 'D7' 'A19' 'B49' 'D' 'C22 C26' 'C106'\n",
      " 'C65' 'E36' 'C54' 'B57 B59 B63 B66' 'C7' 'E34' 'C32' 'B18' 'C124' 'C91'\n",
      " 'E40' 'T' 'C128' 'D37' 'B35' 'E50' 'C82' 'B96 B98' 'E10' 'E44' 'A34'\n",
      " 'C104' 'C111' 'C92' 'E38' 'D21' 'E12' 'E63' 'A14' 'B37' 'C30' 'D20' 'B79'\n",
      " 'E25' 'D46' 'B73' 'C95' 'B38' 'B39' 'B22' 'C86' 'C70' 'A16' 'C101' 'C68'\n",
      " 'A10' 'E68' 'B41' 'A20' 'D19' 'D50' 'D9' 'A23' 'B50' 'A26' 'D48' 'E58'\n",
      " 'C126' 'B71' 'B51 B53 B55' 'D49' 'B5' 'B20' 'F G63' 'C62 C64' 'E24' 'C90'\n",
      " 'C45' 'E8' 'B101' 'D45' 'C46' 'D30' 'E121' 'D11' 'E77' 'F38' 'B3' 'D6'\n",
      " 'B82 B84' 'D17' 'A36' 'B102' 'B69' 'E49' 'C47' 'D28' 'E17' 'A24' 'C50'\n",
      " 'B42' 'C148']\n",
      "0       0\n",
      "1     C85\n",
      "2       0\n",
      "3    C123\n",
      "4       0\n",
      "Name: Cabin, dtype: object\n",
      "['S' 'C' 'Q' '0']\n"
     ]
    },
    {
     "data": {
      "text/html": [
       "<div>\n",
       "<style scoped>\n",
       "    .dataframe tbody tr th:only-of-type {\n",
       "        vertical-align: middle;\n",
       "    }\n",
       "\n",
       "    .dataframe tbody tr th {\n",
       "        vertical-align: top;\n",
       "    }\n",
       "\n",
       "    .dataframe thead th {\n",
       "        text-align: right;\n",
       "    }\n",
       "</style>\n",
       "<table border=\"1\" class=\"dataframe\">\n",
       "  <thead>\n",
       "    <tr style=\"text-align: right;\">\n",
       "      <th></th>\n",
       "      <th>Survived</th>\n",
       "      <th>Pclass</th>\n",
       "      <th>Name</th>\n",
       "      <th>Sex</th>\n",
       "      <th>Age</th>\n",
       "      <th>SibSp</th>\n",
       "      <th>Parch</th>\n",
       "      <th>Ticket</th>\n",
       "      <th>Fare</th>\n",
       "      <th>Cabin</th>\n",
       "      <th>Embarked</th>\n",
       "    </tr>\n",
       "  </thead>\n",
       "  <tbody>\n",
       "    <tr>\n",
       "      <th>0</th>\n",
       "      <td>0</td>\n",
       "      <td>3</td>\n",
       "      <td>Braund, Mr. Owen Harris</td>\n",
       "      <td>male</td>\n",
       "      <td>22.0</td>\n",
       "      <td>1</td>\n",
       "      <td>0</td>\n",
       "      <td>A/5 21171</td>\n",
       "      <td>7.2500</td>\n",
       "      <td>0</td>\n",
       "      <td>S</td>\n",
       "    </tr>\n",
       "    <tr>\n",
       "      <th>1</th>\n",
       "      <td>1</td>\n",
       "      <td>1</td>\n",
       "      <td>Cumings, Mrs. John Bradley (Florence Briggs Th...</td>\n",
       "      <td>female</td>\n",
       "      <td>38.0</td>\n",
       "      <td>1</td>\n",
       "      <td>0</td>\n",
       "      <td>PC 17599</td>\n",
       "      <td>71.2833</td>\n",
       "      <td>C85</td>\n",
       "      <td>C</td>\n",
       "    </tr>\n",
       "    <tr>\n",
       "      <th>2</th>\n",
       "      <td>1</td>\n",
       "      <td>3</td>\n",
       "      <td>Heikkinen, Miss. Laina</td>\n",
       "      <td>female</td>\n",
       "      <td>26.0</td>\n",
       "      <td>0</td>\n",
       "      <td>0</td>\n",
       "      <td>STON/O2. 3101282</td>\n",
       "      <td>7.9250</td>\n",
       "      <td>0</td>\n",
       "      <td>S</td>\n",
       "    </tr>\n",
       "    <tr>\n",
       "      <th>3</th>\n",
       "      <td>1</td>\n",
       "      <td>1</td>\n",
       "      <td>Futrelle, Mrs. Jacques Heath (Lily May Peel)</td>\n",
       "      <td>female</td>\n",
       "      <td>35.0</td>\n",
       "      <td>1</td>\n",
       "      <td>0</td>\n",
       "      <td>113803</td>\n",
       "      <td>53.1000</td>\n",
       "      <td>C123</td>\n",
       "      <td>S</td>\n",
       "    </tr>\n",
       "    <tr>\n",
       "      <th>4</th>\n",
       "      <td>0</td>\n",
       "      <td>3</td>\n",
       "      <td>Allen, Mr. William Henry</td>\n",
       "      <td>male</td>\n",
       "      <td>35.0</td>\n",
       "      <td>0</td>\n",
       "      <td>0</td>\n",
       "      <td>373450</td>\n",
       "      <td>8.0500</td>\n",
       "      <td>0</td>\n",
       "      <td>S</td>\n",
       "    </tr>\n",
       "  </tbody>\n",
       "</table>\n",
       "</div>"
      ],
      "text/plain": [
       "   Survived  Pclass                                               Name  \\\n",
       "0         0       3                            Braund, Mr. Owen Harris   \n",
       "1         1       1  Cumings, Mrs. John Bradley (Florence Briggs Th...   \n",
       "2         1       3                             Heikkinen, Miss. Laina   \n",
       "3         1       1       Futrelle, Mrs. Jacques Heath (Lily May Peel)   \n",
       "4         0       3                           Allen, Mr. William Henry   \n",
       "\n",
       "      Sex   Age  SibSp  Parch            Ticket     Fare Cabin Embarked  \n",
       "0    male  22.0      1      0         A/5 21171   7.2500     0        S  \n",
       "1  female  38.0      1      0          PC 17599  71.2833   C85        C  \n",
       "2  female  26.0      0      0  STON/O2. 3101282   7.9250     0        S  \n",
       "3  female  35.0      1      0            113803  53.1000  C123        S  \n",
       "4    male  35.0      0      0            373450   8.0500     0        S  "
      ]
     },
     "execution_count": 3,
     "metadata": {},
     "output_type": "execute_result"
    }
   ],
   "source": [
    "# Decisiones sobre los datos faltantes\n",
    "\n",
    "\n",
    "#Toma valores de cabinas/habitaciones\n",
    "print(df_titanic['Cabin'].unique())\n",
    "#Rellenamos los valores con 0 para las cabinas NaN\n",
    "df_titanic = df_titanic.fillna('0')\n",
    "print(df_titanic['Cabin'].head(5))\n",
    "\n",
    "\n",
    "# Embarked puede tomar 3 valores ['S' 'C' 'Q' nan] \n",
    "print(df_titanic['Embarked'].unique())\n",
    "#Cambiamos los NaN por D de Desconocido\n",
    "df_titanic['Embarked'] = df_titanic['Embarked'].fillna('D')\n",
    "\n",
    "df_titanic.head(5)\n"
   ]
  },
  {
   "cell_type": "code",
   "execution_count": 5,
   "id": "3785b868-894a-43c0-b7dd-74d05f16fe68",
   "metadata": {},
   "outputs": [
    {
     "name": "stdout",
     "output_type": "stream",
     "text": [
      "Valores únicos en 'Age':\n",
      "[22.0 38.0 26.0 35.0 '0' 54.0 2.0 27.0 14.0 4.0 58.0 20.0 39.0 55.0 31.0\n",
      " 34.0 15.0 28.0 8.0 19.0 40.0 66.0 42.0 21.0 18.0 3.0 7.0 49.0 29.0 65.0\n",
      " 28.5 5.0 11.0 45.0 17.0 32.0 16.0 25.0 0.83 30.0 33.0 23.0 24.0 46.0 59.0\n",
      " 71.0 37.0 47.0 14.5 70.5 32.5 12.0 9.0 36.5 51.0 55.5 40.5 44.0 1.0 61.0\n",
      " 56.0 50.0 36.0 45.5 20.5 62.0 41.0 52.0 63.0 23.5 0.92 43.0 60.0 10.0\n",
      " 64.0 13.0 48.0 0.75 53.0 57.0 80.0 70.0 24.5 6.0 0.67 30.5 0.42 34.5 74.0]\n",
      "Valores NaN después de reemplazar 0: 177\n",
      "Media de la columna 'Age': 29.69911764705882\n",
      "int64\n",
      "count    891.000000\n",
      "mean      29.544332\n",
      "std       13.013778\n",
      "min        0.000000\n",
      "25%       22.000000\n",
      "50%       29.000000\n",
      "75%       35.000000\n",
      "max       80.000000\n",
      "Name: Age, dtype: float64\n"
     ]
    },
    {
     "data": {
      "image/png": "[encoded data removed]",
      "text/plain": [
       "<Figure size 640x480 with 1 Axes>"
      ]
     },
     "metadata": {},
     "output_type": "display_data"
    }
   ],
   "source": [
    "import pandas as pd\n",
    "import numpy as np\n",
    "import matplotlib.pyplot as plt\n",
    "\n",
    "# Primero, verifica los valores únicos en 'Age'\n",
    "print(\"Valores únicos en 'Age':\")\n",
    "print(df_titanic['Age'].unique())\n",
    "\n",
    "# Convierte a numérico, reemplazando errores con NaN\n",
    "df_titanic['Age'] = pd.to_numeric(df_titanic['Age'], errors='coerce')\n",
    "\n",
    "# Reemplaza los valores de edad 0 por NaN\n",
    "df_titanic['Age'] = df_titanic['Age'].replace(0, np.nan)\n",
    "\n",
    "# Verifica la cantidad de valores NaN\n",
    "print(f\"Valores NaN después de reemplazar 0: {df_titanic['Age'].isna().sum()}\")\n",
    "\n",
    "# Calcular la media excluyendo los NaN\n",
    "mean_Age = df_titanic['Age'].mean()\n",
    "print(f\"Media de la columna 'Age': {mean_Age}\")\n",
    "\n",
    "# Llenar los valores NaN con la media calculada\n",
    "df_titanic['Age'] = df_titanic['Age'].fillna(mean_Age)\n",
    "\n",
    "# Convertir a tipo int64\n",
    "df_titanic['Age'] = df_titanic['Age'].astype(np.int64)\n",
    "\n",
    "# Verifica el tipo de dato\n",
    "print(df_titanic['Age'].dtype)\n",
    "\n",
    "# Mostrar resumen estadístico de la columna 'Age'\n",
    "print(df_titanic['Age'].describe())\n",
    "\n",
    "# Crear histograma\n",
    "df_titanic['Age'].hist(bins=10)\n",
    "plt.xlabel('Edad')\n",
    "plt.ylabel('Frecuencia')\n",
    "plt.title('Histograma de Edad')\n",
    "plt.show()\n"
   ]
  },
  {
   "cell_type": "code",
   "execution_count": 7,
   "id": "25fbf415-382f-4ea3-8035-e7994ceb9310",
   "metadata": {},
   "outputs": [
    {
     "name": "stdout",
     "output_type": "stream",
     "text": [
      "0    1\n",
      "1    1\n",
      "2    0\n",
      "3    1\n",
      "4    0\n",
      "5    0\n",
      "6    0\n",
      "7    3\n",
      "8    0\n",
      "9    1\n",
      "Name: SibSp, dtype: int64\n",
      "int64\n"
     ]
    },
    {
     "data": {
      "image/png": "[encoded data removed]",
      "text/plain": [
       "<Figure size 640x480 with 1 Axes>"
      ]
     },
     "metadata": {},
     "output_type": "display_data"
    }
   ],
   "source": [
    "#SibSp\n",
    "print(df_titanic['SibSp'].head(10))\n",
    "print(df_titanic['SibSp'].dtype)\n",
    "\n",
    "df_titanic['SibSp'].hist(bins=10)\n",
    "plt.xlabel('Edad')\n",
    "plt.ylabel('Frecuencia')\n",
    "plt.title('Histograma de Edad')\n",
    "plt.show()\n"
   ]
  },
  {
   "cell_type": "markdown",
   "id": "2824d898-e878-4a50-87f7-452c4c1e6f3e",
   "metadata": {},
   "source": [
    "# Analisis de componentes"
   ]
  },
  {
   "cell_type": "code",
   "execution_count": 7,
   "id": "2e7fdf96-d114-48fe-b5d5-a1cb2936e1b9",
   "metadata": {},
   "outputs": [
    {
     "name": "stdout",
     "output_type": "stream",
     "text": [
      "object\n"
     ]
    }
   ],
   "source": []
  },
  {
   "cell_type": "code",
   "execution_count": null,
   "id": "44207e97-27f8-431d-97a2-3cdd26f27efb",
   "metadata": {},
   "outputs": [],
   "source": []
  }
 ],
 "metadata": {
  "kernelspec": {
   "display_name": "Python 3 (ipykernel)",
   "language": "python",
   "name": "python3"
  },
  "language_info": {
   "codemirror_mode": {
    "name": "ipython",
    "version": 3
   },
   "file_extension": ".py",
   "mimetype": "text/x-python",
   "name": "python",
   "nbconvert_exporter": "python",
   "pygments_lexer": "ipython3",
   "version": "3.12.3"
  }
 },
 "nbformat": 4,
 "nbformat_minor": 5
}
