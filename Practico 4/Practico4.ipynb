{
 "cells": [
  {
   "cell_type": "code",
   "execution_count": 1,
   "id": "cbfd4487-3497-43ee-a157-785fcc6d1784",
   "metadata": {},
   "outputs": [],
   "source": [
    "#%% Importar librerias\n",
    "import pandas as pd\n",
    "import numpy as np\n",
    "from sklearn.decomposition import PCA\n",
    "from sklearn.preprocessing import StandardScaler, LabelEncoder\n",
    "import matplotlib.pyplot as plt\n",
    "import seaborn as sns"
   ]
  },
  {
   "cell_type": "markdown",
   "id": "5f05fdf5-f01d-4829-8e37-189749434117",
   "metadata": {},
   "source": [
    "# Carga de datos"
   ]
  },
  {
   "cell_type": "code",
   "execution_count": 2,
   "id": "b1b62cc9-6120-45de-a9ed-1d7d6a848ab3",
   "metadata": {},
   "outputs": [
    {
     "name": "stdout",
     "output_type": "stream",
     "text": [
      "Las columnas son Index(['Survived', 'Pclass', 'Name', 'Sex', 'Age', 'SibSp', 'Parch', 'Ticket',\n",
      "       'Fare', 'Cabin', 'Embarked'],\n",
      "      dtype='object')\n",
      "Las forma es (891, 11)\n",
      "Los datos faltantes son Survived      0\n",
      "Pclass        0\n",
      "Name          0\n",
      "Sex           0\n",
      "Age         177\n",
      "SibSp         0\n",
      "Parch         0\n",
      "Ticket        0\n",
      "Fare          0\n",
      "Cabin       687\n",
      "Embarked      2\n",
      "dtype: int64\n"
     ]
    }
   ],
   "source": [
    "df_titanic = pd.read_csv('Titanic.csv')\n",
    "\n",
    "df_titanic = df_titanic.drop(columns = 'PassengerId')\n",
    "\n",
    "print(f\"Las columnas son {df_titanic.columns}\")\n",
    "print(f\"Las forma es {df_titanic.shape}\")\n",
    "print(f\"Los datos faltantes son {df_titanic.isnull().sum()}\")"
   ]
  },
  {
   "cell_type": "markdown",
   "id": "c49eb326-5c8e-4f84-9f82-bd17773648e4",
   "metadata": {},
   "source": [
    "# Tratamiento de datos"
   ]
  },
  {
   "cell_type": "markdown",
   "id": "8abdc39f-0991-45a1-9c51-0c1f312aeacc",
   "metadata": {},
   "source": [
    "Los datos faltantes son \n",
    "\n",
    "Age         177\n",
    "\n",
    "Cabin       687\n",
    "\n",
    "Embarked      2\n"
   ]
  },
  {
   "cell_type": "markdown",
   "id": "683f513b-fb7d-4e51-8410-ea9a278e0a07",
   "metadata": {},
   "source": [
    "Age"
   ]
  },
  {
   "cell_type": "code",
   "execution_count": 3,
   "id": "d5b047b5-3abd-4a17-8730-1a580e3887cc",
   "metadata": {},
   "outputs": [
    {
     "name": "stdout",
     "output_type": "stream",
     "text": [
      "Valores únicos en 'Age':\n",
      "[22.   38.   26.   35.     nan 54.    2.   27.   14.    4.   58.   20.\n",
      " 39.   55.   31.   34.   15.   28.    8.   19.   40.   66.   42.   21.\n",
      " 18.    3.    7.   49.   29.   65.   28.5   5.   11.   45.   17.   32.\n",
      " 16.   25.    0.83 30.   33.   23.   24.   46.   59.   71.   37.   47.\n",
      " 14.5  70.5  32.5  12.    9.   36.5  51.   55.5  40.5  44.    1.   61.\n",
      " 56.   50.   36.   45.5  20.5  62.   41.   52.   63.   23.5   0.92 43.\n",
      " 60.   10.   64.   13.   48.    0.75 53.   57.   80.   70.   24.5   6.\n",
      "  0.67 30.5   0.42 34.5  74.  ]\n",
      "Valores NaN después de reemplazar 0: 177\n",
      "Media de la columna 'Age': 29.69911764705882\n"
     ]
    }
   ],
   "source": [
    "# Primero, verifica los valores únicos en 'Age'\n",
    "print(\"Valores únicos en 'Age':\")\n",
    "print(df_titanic['Age'].unique())\n",
    "\n",
    "# Convierte a numérico, reemplazando errores con NaN\n",
    "df_titanic['Age'] = pd.to_numeric(df_titanic['Age'], errors='coerce')\n",
    "\n",
    "# Reemplaza los valores de edad 0 por NaN\n",
    "df_titanic['Age'] = df_titanic['Age'].replace(0, np.nan)\n",
    "\n",
    "# Verifica la cantidad de valores NaN\n",
    "print(f\"Valores NaN después de reemplazar 0: {df_titanic['Age'].isna().sum()}\")\n",
    "\n",
    "# Calcular la media excluyendo los NaN\n",
    "mean_Age = df_titanic['Age'].mean()\n",
    "print(f\"Media de la columna 'Age': {mean_Age}\")\n",
    "\n",
    "# Llenar los valores NaN con la media calculada\n",
    "df_titanic['Age'] = df_titanic['Age'].fillna(mean_Age)\n",
    "\n",
    "# Convertir a tipo int64\n",
    "df_titanic['Age'] = df_titanic['Age'].astype(np.int64)\n"
   ]
  },
  {
   "cell_type": "markdown",
   "id": "a8a57d8b-cf9f-40bb-9b8a-38c7023883ef",
   "metadata": {},
   "source": [
    "SibSp"
   ]
  },
  {
   "cell_type": "code",
   "execution_count": 4,
   "id": "02db2521-d0a9-4bab-a228-cc349512d539",
   "metadata": {},
   "outputs": [
    {
     "name": "stdout",
     "output_type": "stream",
     "text": [
      "0    1\n",
      "1    1\n",
      "2    0\n",
      "3    1\n",
      "4    0\n",
      "5    0\n",
      "6    0\n",
      "7    3\n",
      "8    0\n",
      "9    1\n",
      "Name: SibSp, dtype: int64\n",
      "int64\n"
     ]
    },
    {
     "data": {
      "image/png": "[encoded data removed]",
      "text/plain": [
       "<Figure size 640x480 with 1 Axes>"
      ]
     },
     "metadata": {},
     "output_type": "display_data"
    }
   ],
   "source": [
    "#SibSp\n",
    "print(df_titanic['SibSp'].head(10))\n",
    "print(df_titanic['SibSp'].dtype)\n",
    "\n",
    "df_titanic['SibSp'].hist(bins=10)\n",
    "plt.xlabel('Acompañantes')\n",
    "plt.ylabel('Frecuencia')\n",
    "plt.title('Histograma de SibSp')\n",
    "plt.show()"
   ]
  },
  {
   "cell_type": "markdown",
   "id": "35b4e2f2-0858-4f8f-bbc2-d6bd88592f28",
   "metadata": {},
   "source": [
    "Variables Name y Ticket"
   ]
  },
  {
   "cell_type": "code",
   "execution_count": 5,
   "id": "2e7fdf96-d114-48fe-b5d5-a1cb2936e1b9",
   "metadata": {},
   "outputs": [
    {
     "name": "stdout",
     "output_type": "stream",
     "text": [
      "                                                  Name            Ticket\n",
      "0                              Braund, Mr. Owen Harris         A/5 21171\n",
      "1    Cumings, Mrs. John Bradley (Florence Briggs Th...          PC 17599\n",
      "2                               Heikkinen, Miss. Laina  STON/O2. 3101282\n",
      "3         Futrelle, Mrs. Jacques Heath (Lily May Peel)            113803\n",
      "4                             Allen, Mr. William Henry            373450\n",
      "..                                                 ...               ...\n",
      "886                              Montvila, Rev. Juozas            211536\n",
      "887                       Graham, Miss. Margaret Edith            112053\n",
      "888           Johnston, Miss. Catherine Helen \"Carrie\"        W./C. 6607\n",
      "889                              Behr, Mr. Karl Howell            111369\n",
      "890                                Dooley, Mr. Patrick            370376\n",
      "\n",
      "[891 rows x 2 columns]\n"
     ]
    }
   ],
   "source": [
    "# Mostrar los valores de las columnas 'Name' y 'Ticket'\n",
    "names_and_tickets = df_titanic[['Name', 'Ticket']]\n",
    "print(names_and_tickets)\n",
    "\n",
    "# Eliminar columnas no útiles para el análisis\n",
    "df_titanic.drop(['Name', 'Ticket'], axis=1, inplace=True)\n"
   ]
  },
  {
   "cell_type": "markdown",
   "id": "8abd647a-986a-4d47-9aaa-9891041597d2",
   "metadata": {},
   "source": [
    "Variable Embarked"
   ]
  },
  {
   "cell_type": "code",
   "execution_count": 6,
   "id": "64716483-5479-4813-8840-3fffad9c2be6",
   "metadata": {},
   "outputs": [
    {
     "name": "stdout",
     "output_type": "stream",
     "text": [
      "0      S\n",
      "1      C\n",
      "2      S\n",
      "3      S\n",
      "4      S\n",
      "      ..\n",
      "886    S\n",
      "887    S\n",
      "888    S\n",
      "889    C\n",
      "890    Q\n",
      "Name: Embarked, Length: 891, dtype: object\n"
     ]
    }
   ],
   "source": [
    "embarked = df_titanic[\"Embarked\"]\n",
    "print(embarked)\n",
    "\n",
    "# Convertir variable categorica a numerica\n",
    "label_encoder_embarked = LabelEncoder()\n",
    "\n",
    "\n",
    "# Codificar columna 'Embarked', llenando valores faltantes con el valor más frecuente\n",
    "df_titanic['Embarked'].fillna(df_titanic['Embarked'].mode()[0], inplace=True)\n",
    "df_titanic['Embarked'] = label_encoder_embarked.fit_transform(df_titanic['Embarked'])"
   ]
  },
  {
   "cell_type": "markdown",
   "id": "c5bc55fc-f048-44ed-aab5-a27f98b7a7de",
   "metadata": {},
   "source": [
    "Variable Sex"
   ]
  },
  {
   "cell_type": "code",
   "execution_count": 7,
   "id": "635d9be3-acb0-4fd5-a2df-5a16fb80f932",
   "metadata": {},
   "outputs": [],
   "source": [
    "# Convertir variable categórica a numérica\n",
    "label_encoder_sex = LabelEncoder()\n",
    "\n",
    "# Codificar columna 'Sex'\n",
    "df_titanic['Sex'] = label_encoder_sex.fit_transform(df_titanic['Sex'])\n",
    "\n",
    "\n"
   ]
  },
  {
   "cell_type": "markdown",
   "id": "a122444e-4eb6-4d5d-8eaa-9cc8be2a61b9",
   "metadata": {},
   "source": [
    "Variable Fare"
   ]
  },
  {
   "cell_type": "code",
   "execution_count": 8,
   "id": "889d8d0e-0fd2-4d4c-973a-dde45548a367",
   "metadata": {},
   "outputs": [
    {
     "name": "stdout",
     "output_type": "stream",
     "text": [
      "0       7.2500\n",
      "1      71.2833\n",
      "2       7.9250\n",
      "3      53.1000\n",
      "4       8.0500\n",
      "        ...   \n",
      "886    13.0000\n",
      "887    30.0000\n",
      "888    23.4500\n",
      "889    30.0000\n",
      "890     7.7500\n",
      "Name: Fare, Length: 891, dtype: float64\n"
     ]
    }
   ],
   "source": [
    "# Mostrar los valores de la columna 'Fare'\n",
    "fare = df_titanic['Fare']\n",
    "print(fare)"
   ]
  },
  {
   "cell_type": "markdown",
   "id": "2824d898-e878-4a50-87f7-452c4c1e6f3e",
   "metadata": {},
   "source": [
    "# Analisis de componentes"
   ]
  },
  {
   "cell_type": "code",
   "execution_count": null,
   "id": "26652537-0003-45b1-bec6-07ac37038e9e",
   "metadata": {},
   "outputs": [],
   "source": []
  }
 ],
 "metadata": {
  "kernelspec": {
   "display_name": "Python 3 (ipykernel)",
   "language": "python",
   "name": "python3"
  },
  "language_info": {
   "codemirror_mode": {
    "name": "ipython",
    "version": 3
   },
   "file_extension": ".py",
   "mimetype": "text/x-python",
   "name": "python",
   "nbconvert_exporter": "python",
   "pygments_lexer": "ipython3",
   "version": "3.12.3"
  }
 },
 "nbformat": 4,
 "nbformat_minor": 5
}
