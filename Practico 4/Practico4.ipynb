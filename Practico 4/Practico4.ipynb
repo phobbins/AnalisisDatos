{
 "cells": [
  {
   "cell_type": "code",
   "execution_count": 1,
   "id": "cbfd4487-3497-43ee-a157-785fcc6d1784",
   "metadata": {},
   "outputs": [],
   "source": [
    "#%% Importar librerias\n",
    "import pandas as pd\n",
    "import numpy as np\n",
    "from sklearn.decomposition import PCA\n",
    "from sklearn.preprocessing import StandardScaler, LabelEncoder,MinMaxScaler\n",
    "import matplotlib.pyplot as plt\n",
    "import seaborn as sns"
   ]
  },
  {
   "cell_type": "markdown",
   "id": "5f05fdf5-f01d-4829-8e37-189749434117",
   "metadata": {},
   "source": [
    "# Carga de datos"
   ]
  },
  {
   "cell_type": "code",
   "execution_count": 2,
   "id": "b1b62cc9-6120-45de-a9ed-1d7d6a848ab3",
   "metadata": {},
   "outputs": [
    {
     "name": "stdout",
     "output_type": "stream",
     "text": [
      "Las columnas son Index(['Survived', 'Pclass', 'Name', 'Sex', 'Age', 'SibSp', 'Parch', 'Ticket',\n",
      "       'Fare', 'Cabin', 'Embarked'],\n",
      "      dtype='object')\n",
      "Las forma es (891, 11)\n",
      "Los datos faltantes son Survived      0\n",
      "Pclass        0\n",
      "Name          0\n",
      "Sex           0\n",
      "Age         177\n",
      "SibSp         0\n",
      "Parch         0\n",
      "Ticket        0\n",
      "Fare          0\n",
      "Cabin       687\n",
      "Embarked      2\n",
      "dtype: int64\n"
     ]
    }
   ],
   "source": [
    "df_titanic = pd.read_csv('Titanic.csv')\n",
    "\n",
    "df_titanic = df_titanic.drop(columns = 'PassengerId')\n",
    "\n",
    "print(f\"Las columnas son {df_titanic.columns}\")\n",
    "print(f\"Las forma es {df_titanic.shape}\")\n",
    "print(f\"Los datos faltantes son {df_titanic.isnull().sum()}\")"
   ]
  },
  {
   "cell_type": "markdown",
   "id": "c49eb326-5c8e-4f84-9f82-bd17773648e4",
   "metadata": {},
   "source": [
    "# Tratamiento de datos"
   ]
  },
  {
   "cell_type": "markdown",
   "id": "8abdc39f-0991-45a1-9c51-0c1f312aeacc",
   "metadata": {},
   "source": [
    "Los datos faltantes son \n",
    "\n",
    "Age         177\n",
    "\n",
    "Cabin       687\n",
    "\n",
    "Embarked      2\n"
   ]
  },
  {
   "cell_type": "markdown",
   "id": "683f513b-fb7d-4e51-8410-ea9a278e0a07",
   "metadata": {},
   "source": [
    "Age"
   ]
  },
  {
   "cell_type": "code",
   "execution_count": 3,
   "id": "d5b047b5-3abd-4a17-8730-1a580e3887cc",
   "metadata": {},
   "outputs": [
    {
     "name": "stdout",
     "output_type": "stream",
     "text": [
      "Valores únicos en 'Age':\n",
      "[22.   38.   26.   35.     nan 54.    2.   27.   14.    4.   58.   20.\n",
      " 39.   55.   31.   34.   15.   28.    8.   19.   40.   66.   42.   21.\n",
      " 18.    3.    7.   49.   29.   65.   28.5   5.   11.   45.   17.   32.\n",
      " 16.   25.    0.83 30.   33.   23.   24.   46.   59.   71.   37.   47.\n",
      " 14.5  70.5  32.5  12.    9.   36.5  51.   55.5  40.5  44.    1.   61.\n",
      " 56.   50.   36.   45.5  20.5  62.   41.   52.   63.   23.5   0.92 43.\n",
      " 60.   10.   64.   13.   48.    0.75 53.   57.   80.   70.   24.5   6.\n",
      "  0.67 30.5   0.42 34.5  74.  ]\n",
      "Valores NaN después de reemplazar 0: 177\n",
      "Media de la columna 'Age': 29.69911764705882\n"
     ]
    }
   ],
   "source": [
    "# Primero, verifica los valores únicos en 'Age'\n",
    "print(\"Valores únicos en 'Age':\")\n",
    "print(df_titanic['Age'].unique())\n",
    "\n",
    "# Convierte a numérico, reemplazando errores con NaN\n",
    "df_titanic['Age'] = pd.to_numeric(df_titanic['Age'], errors='coerce')\n",
    "\n",
    "# Reemplaza los valores de edad 0 por NaN\n",
    "df_titanic['Age'] = df_titanic['Age'].replace(0, np.nan)\n",
    "\n",
    "# Verifica la cantidad de valores NaN\n",
    "print(f\"Valores NaN después de reemplazar 0: {df_titanic['Age'].isna().sum()}\")\n",
    "\n",
    "# Calcular la media excluyendo los NaN\n",
    "mean_Age = df_titanic['Age'].mean()\n",
    "print(f\"Media de la columna 'Age': {mean_Age}\")\n",
    "\n",
    "# Llenar los valores NaN con la media calculada\n",
    "df_titanic['Age'] = df_titanic['Age'].fillna(mean_Age)\n",
    "\n",
    "# Convertir a tipo int64\n",
    "df_titanic['Age'] = df_titanic['Age'].astype(np.int64)\n"
   ]
  },
  {
   "cell_type": "markdown",
   "id": "a8a57d8b-cf9f-40bb-9b8a-38c7023883ef",
   "metadata": {},
   "source": [
    "SibSp"
   ]
  },
  {
   "cell_type": "code",
   "execution_count": 4,
   "id": "02db2521-d0a9-4bab-a228-cc349512d539",
   "metadata": {},
   "outputs": [
    {
     "name": "stdout",
     "output_type": "stream",
     "text": [
      "0    1\n",
      "1    1\n",
      "2    0\n",
      "3    1\n",
      "4    0\n",
      "5    0\n",
      "6    0\n",
      "7    3\n",
      "8    0\n",
      "9    1\n",
      "Name: SibSp, dtype: int64\n",
      "int64\n"
     ]
    },
    {
     "data": {
      "image/png": "[encoded data removed]",
      "text/plain": [
       "<Figure size 640x480 with 1 Axes>"
      ]
     },
     "metadata": {},
     "output_type": "display_data"
    }
   ],
   "source": [
    "#SibSp\n",
    "print(df_titanic['SibSp'].head(10))\n",
    "print(df_titanic['SibSp'].dtype)\n",
    "\n",
    "df_titanic['SibSp'].hist(bins=10)\n",
    "plt.xlabel('Acompañantes')\n",
    "plt.ylabel('Frecuencia')\n",
    "plt.title('Histograma de SibSp')\n",
    "plt.show()"
   ]
  },
  {
   "cell_type": "markdown",
   "id": "35b4e2f2-0858-4f8f-bbc2-d6bd88592f28",
   "metadata": {},
   "source": [
    "Variables Name y Ticket"
   ]
  },
  {
   "cell_type": "code",
   "execution_count": 5,
   "id": "2e7fdf96-d114-48fe-b5d5-a1cb2936e1b9",
   "metadata": {},
   "outputs": [
    {
     "name": "stdout",
     "output_type": "stream",
     "text": [
      "                                                  Name            Ticket\n",
      "0                              Braund, Mr. Owen Harris         A/5 21171\n",
      "1    Cumings, Mrs. John Bradley (Florence Briggs Th...          PC 17599\n",
      "2                               Heikkinen, Miss. Laina  STON/O2. 3101282\n",
      "3         Futrelle, Mrs. Jacques Heath (Lily May Peel)            113803\n",
      "4                             Allen, Mr. William Henry            373450\n",
      "..                                                 ...               ...\n",
      "886                              Montvila, Rev. Juozas            211536\n",
      "887                       Graham, Miss. Margaret Edith            112053\n",
      "888           Johnston, Miss. Catherine Helen \"Carrie\"        W./C. 6607\n",
      "889                              Behr, Mr. Karl Howell            111369\n",
      "890                                Dooley, Mr. Patrick            370376\n",
      "\n",
      "[891 rows x 2 columns]\n"
     ]
    }
   ],
   "source": [
    "# Mostrar los valores de las columnas 'Name' y 'Ticket'\n",
    "names_and_tickets = df_titanic[['Name', 'Ticket']]\n",
    "print(names_and_tickets)\n",
    "\n",
    "# Eliminar columnas no útiles para el análisis\n",
    "df_titanic.drop(['Name', 'Ticket'], axis=1, inplace=True)\n"
   ]
  },
  {
   "cell_type": "code",
   "execution_count": null,
   "id": "81a4ffc8",
   "metadata": {},
   "outputs": [],
   "source": []
  },
  {
   "cell_type": "markdown",
   "id": "8abd647a-986a-4d47-9aaa-9891041597d2",
   "metadata": {},
   "source": [
    "Variable Embarked"
   ]
  },
  {
   "cell_type": "code",
   "execution_count": 6,
   "id": "64716483-5479-4813-8840-3fffad9c2be6",
   "metadata": {},
   "outputs": [
    {
     "name": "stdout",
     "output_type": "stream",
     "text": [
      "0      S\n",
      "1      C\n",
      "2      S\n",
      "3      S\n",
      "4      S\n",
      "      ..\n",
      "886    S\n",
      "887    S\n",
      "888    S\n",
      "889    C\n",
      "890    Q\n",
      "Name: Embarked, Length: 891, dtype: object\n"
     ]
    }
   ],
   "source": [
    "embarked = df_titanic[\"Embarked\"]\n",
    "print(embarked)\n",
    "\n",
    "# Convertir variable categorica a numerica\n",
    "label_encoder_embarked = LabelEncoder()\n",
    "\n",
    "\n",
    "# Codificar columna 'Embarked', llenando valores faltantes con el valor más frecuente\n",
    "df_titanic['Embarked'].fillna(df_titanic['Embarked'].mode()[0], inplace=True)\n",
    "df_titanic['Embarked'] = label_encoder_embarked.fit_transform(df_titanic['Embarked'])"
   ]
  },
  {
   "cell_type": "markdown",
   "id": "c5bc55fc-f048-44ed-aab5-a27f98b7a7de",
   "metadata": {},
   "source": [
    "Variable Sex"
   ]
  },
  {
   "cell_type": "code",
   "execution_count": 7,
   "id": "635d9be3-acb0-4fd5-a2df-5a16fb80f932",
   "metadata": {},
   "outputs": [],
   "source": [
    "# Convertir variable categórica a numérica\n",
    "label_encoder_sex = LabelEncoder()\n",
    "\n",
    "# Codificar columna 'Sex'\n",
    "df_titanic['Sex'] = label_encoder_sex.fit_transform(df_titanic['Sex'])\n",
    "\n",
    "\n"
   ]
  },
  {
   "cell_type": "markdown",
   "id": "a122444e-4eb6-4d5d-8eaa-9cc8be2a61b9",
   "metadata": {},
   "source": [
    "Variable Fare"
   ]
  },
  {
   "cell_type": "code",
   "execution_count": 8,
   "id": "889d8d0e-0fd2-4d4c-973a-dde45548a367",
   "metadata": {},
   "outputs": [
    {
     "name": "stdout",
     "output_type": "stream",
     "text": [
      "0       7.2500\n",
      "1      71.2833\n",
      "2       7.9250\n",
      "3      53.1000\n",
      "4       8.0500\n",
      "        ...   \n",
      "886    13.0000\n",
      "887    30.0000\n",
      "888    23.4500\n",
      "889    30.0000\n",
      "890     7.7500\n",
      "Name: Fare, Length: 891, dtype: float64\n"
     ]
    }
   ],
   "source": [
    "# Mostrar los valores de la columna 'Fare'\n",
    "fare = df_titanic['Fare']\n",
    "print(fare)\n",
    "#Fare es la tarifa del pasajero"
   ]
  },
  {
   "cell_type": "markdown",
   "id": "097d24f9",
   "metadata": {},
   "source": [
    "Variable PClass"
   ]
  },
  {
   "cell_type": "code",
   "execution_count": 9,
   "id": "0f972fb5",
   "metadata": {
    "vscode": {
     "languageId": "ruby"
    }
   },
   "outputs": [
    {
     "name": "stdout",
     "output_type": "stream",
     "text": [
      "Empty DataFrame\n",
      "Columns: [Survived, Pclass, Sex, Age, SibSp, Parch, Fare, Cabin, Embarked]\n",
      "Index: []\n"
     ]
    }
   ],
   "source": [
    "# Mostrar las filas donde 'Pclass' es nulo\n",
    "pclass_null_rows = df_titanic[df_titanic['Pclass'].isnull()]\n",
    "print(pclass_null_rows)\n",
    "\n",
    "# Crear un scaler para normalizar entre 0 y 1\n",
    "scaler = MinMaxScaler()\n",
    "\n",
    "# Normalizar la columna 'PClass'\n",
    "df_titanic['Pclass_normalized'] = scaler.fit_transform(df_titanic[['Pclass']])\n",
    "\n",
    "# Mostrar el resultado\n",
    "df_titanic[['Pclass', 'Pclass_normalized']]\n",
    "\n",
    "# Eliminar la columna 'Pclass'\n",
    "df_titanic.drop('Pclass', axis=1, inplace=True)"
   ]
  },
  {
   "cell_type": "markdown",
   "id": "8373711c",
   "metadata": {},
   "source": [
    "Variable Parch"
   ]
  },
  {
   "cell_type": "code",
   "execution_count": 10,
   "id": "47fc47c6",
   "metadata": {
    "vscode": {
     "languageId": "ruby"
    }
   },
   "outputs": [
    {
     "name": "stdout",
     "output_type": "stream",
     "text": [
      "[0 1 2 5 3 4 6]\n",
      "Empty DataFrame\n",
      "Columns: [Survived, Sex, Age, SibSp, Parch, Fare, Cabin, Embarked, Pclass_normalized]\n",
      "Index: []\n",
      "     Parch  Parch_normalized\n",
      "0        0          0.000000\n",
      "1        0          0.000000\n",
      "2        0          0.000000\n",
      "3        0          0.000000\n",
      "4        0          0.000000\n",
      "..     ...               ...\n",
      "886      0          0.000000\n",
      "887      0          0.000000\n",
      "888      2          0.333333\n",
      "889      0          0.000000\n",
      "890      0          0.000000\n",
      "\n",
      "[891 rows x 2 columns]\n"
     ]
    }
   ],
   "source": [
    "# Mostrar los valores únicos de la columna 'Parch'\n",
    "parch_unique_values = df_titanic['Parch'].unique()\n",
    "print(parch_unique_values)\n",
    "\n",
    "# Mostrar las filas donde 'Parch' es nulo\n",
    "parchnull_rows = df_titanic[df_titanic['Parch'].isnull()]\n",
    "print(parchnull_rows)\n",
    "\n",
    "# Normalizar la columna 'Parch' utilizando Min-Max Scaling\n",
    "df_titanic['Parch_normalized'] = scaler.fit_transform(df_titanic[['Parch']])\n",
    "\n",
    "# Mostrar el DataFrame con la columna normalizada\n",
    "print(df_titanic[['Parch', 'Parch_normalized']])\n",
    "\n",
    "# Eliminar la columna 'Parch'\n",
    "df_titanic.drop('Parch', axis=1, inplace=True)\n",
    "\n"
   ]
  },
  {
   "cell_type": "code",
   "execution_count": 11,
   "id": "f9b65d22-0d84-426d-9df5-74cec983f70b",
   "metadata": {},
   "outputs": [
    {
     "name": "stdout",
     "output_type": "stream",
     "text": [
      "Index(['Survived', 'Sex', 'Age', 'SibSp', 'Fare', 'Cabin', 'Embarked',\n",
      "       'Pclass_normalized', 'Parch_normalized'],\n",
      "      dtype='object')\n",
      "     Survived  Sex  Age  SibSp     Fare Cabin  Embarked  Pclass_normalized  \\\n",
      "0           0    1   22      1   7.2500   NaN         2                1.0   \n",
      "1           1    0   38      1  71.2833   C85         0                0.0   \n",
      "2           1    0   26      0   7.9250   NaN         2                1.0   \n",
      "3           1    0   35      1  53.1000  C123         2                0.0   \n",
      "4           0    1   35      0   8.0500   NaN         2                1.0   \n",
      "..        ...  ...  ...    ...      ...   ...       ...                ...   \n",
      "886         0    1   27      0  13.0000   NaN         2                0.5   \n",
      "887         1    0   19      0  30.0000   B42         2                0.0   \n",
      "888         0    0   29      1  23.4500   NaN         2                1.0   \n",
      "889         1    1   26      0  30.0000  C148         0                0.0   \n",
      "890         0    1   32      0   7.7500   NaN         1                1.0   \n",
      "\n",
      "     Parch_normalized  \n",
      "0            0.000000  \n",
      "1            0.000000  \n",
      "2            0.000000  \n",
      "3            0.000000  \n",
      "4            0.000000  \n",
      "..                ...  \n",
      "886          0.000000  \n",
      "887          0.000000  \n",
      "888          0.333333  \n",
      "889          0.000000  \n",
      "890          0.000000  \n",
      "\n",
      "[891 rows x 9 columns]\n",
      "Index(['Survived', 'Sex', 'Age', 'SibSp', 'Fare', 'Embarked',\n",
      "       'Pclass_normalized', 'Parch_normalized'],\n",
      "      dtype='object')\n"
     ]
    }
   ],
   "source": [
    "print(df_titanic.columns)\n",
    "print(df_titanic)\n",
    "df_titanic.drop('Cabin', axis=1, inplace=True)\n",
    "print(df_titanic.columns)"
   ]
  },
  {
   "cell_type": "code",
   "execution_count": 12,
   "id": "86024c1f-8619-45e2-afce-ae6d9ce59176",
   "metadata": {},
   "outputs": [],
   "source": [
    "\n",
    "\n",
    "#%% Normalizar los datos Age, SibSp, Embarked\n",
    "df_titanic_norm = df_titanic\n",
    "\n",
    "#Normalizamos las variables numericas\n",
    "scaler = StandardScaler()\n",
    "df_titanic_norm['Age_norm'] = scaler.fit_transform(df_titanic[['Age']])\n",
    "df_titanic_norm['SibSp_norm'] = scaler.fit_transform(df_titanic[['SibSp']])\n",
    "df_titanic_norm['Embarked_norm'] = scaler.fit_transform(df_titanic[['Embarked']])\n",
    "df_titanic_norm['Fare_norm'] = scaler.fit_transform(df_titanic[['Fare']])\n",
    "\n",
    "\n",
    "#%% Dropeamos las tablas sin normalizar\n",
    "df_titanic.drop('Age', axis=1, inplace=True)\n",
    "df_titanic.drop('SibSp', axis=1, inplace=True)\n",
    "df_titanic.drop('Embarked', axis=1, inplace=True)\n",
    "df_titanic.drop('Fare', axis=1, inplace=True)\n"
   ]
  },
  {
   "cell_type": "code",
   "execution_count": 13,
   "id": "25c84ec3-699b-4833-9568-72abb3ea8c82",
   "metadata": {},
   "outputs": [
    {
     "name": "stdout",
     "output_type": "stream",
     "text": [
      "Index(['Survived', 'Sex', 'Pclass_normalized', 'Parch_normalized', 'Age_norm',\n",
      "       'SibSp_norm', 'Embarked_norm', 'Fare_norm'],\n",
      "      dtype='object')\n",
      "     Survived  Sex  Pclass_normalized  Parch_normalized  Age_norm  SibSp_norm  \\\n",
      "0           0    1                1.0          0.000000 -0.580044    0.432793   \n",
      "1           1    0                0.0          0.000000  0.650112    0.432793   \n",
      "2           1    0                1.0          0.000000 -0.272505   -0.474545   \n",
      "3           1    0                0.0          0.000000  0.419458    0.432793   \n",
      "4           0    1                1.0          0.000000  0.419458   -0.474545   \n",
      "..        ...  ...                ...               ...       ...         ...   \n",
      "886         0    1                0.5          0.000000 -0.195620   -0.474545   \n",
      "887         1    0                0.0          0.000000 -0.810699   -0.474545   \n",
      "888         0    0                1.0          0.333333 -0.041851    0.432793   \n",
      "889         1    1                0.0          0.000000 -0.272505   -0.474545   \n",
      "890         0    1                1.0          0.000000  0.188804   -0.474545   \n",
      "\n",
      "     Embarked_norm  Fare_norm  \n",
      "0         0.585954  -0.502445  \n",
      "1        -1.942303   0.786845  \n",
      "2         0.585954  -0.488854  \n",
      "3         0.585954   0.420730  \n",
      "4         0.585954  -0.486337  \n",
      "..             ...        ...  \n",
      "886       0.585954  -0.386671  \n",
      "887       0.585954  -0.044381  \n",
      "888       0.585954  -0.176263  \n",
      "889      -1.942303  -0.044381  \n",
      "890      -0.678175  -0.492378  \n",
      "\n",
      "[891 rows x 8 columns]\n"
     ]
    }
   ],
   "source": [
    "print(df_titanic_norm.columns)\n",
    "print(df_titanic_norm)"
   ]
  },
  {
   "cell_type": "code",
   "execution_count": null,
   "id": "b158598b-73bf-44d1-9b0b-01272cebba1c",
   "metadata": {},
   "outputs": [],
   "source": [
    "import matplotlib.pyplot as plt\n",
    "import os\n",
    "\n",
    "# Directorio donde se guardarán los histogramas\n",
    "output_dir = \"histogramas_var_normalizadas\"\n",
    "os.makedirs(output_dir, exist_ok=True)  # Crea el directorio si no existe\n",
    "valores_discretos = ['Survived', 'Sex', 'Pclass_normalized', 'Parch_normalized', 'Age_norm',\n",
    "       'SibSp_norm', 'Embarked_norm', 'Fare_norm']\n",
    "\n",
    "\n",
    "for column in valores_discretos:\n",
    "    try:\n",
    "        value_counts = df[column].value_counts()\n",
    "\n",
    "        plt.rcParams['font.family'] = 'Arial'\n",
    "        plt.figure(figsize=(16, 14))\n",
    "        plt.barh(value_counts.index, value_counts.values)\n",
    "        plt.title(f'Histograma de {column}')\n",
    "        plt.xlabel('Frecuencia')\n",
    "        plt.ylabel(column)\n",
    "\n",
    "        # Ruta completa del archivo de salida\n",
    "        output_file = os.path.join(output_dir, f\"histograma_{column}.png\")\n",
    "        plt.savefig(output_file)  # Guardar el gráfico en un archivo\n",
    "        plt.close()  # Cerrar la figura para liberar memoria\n",
    "    \n",
    "    except Exception as e:\n",
    "        print(f\"Error al procesar la columna {column}: {e}\")"
   ]
  },
  {
   "cell_type": "markdown",
   "id": "2824d898-e878-4a50-87f7-452c4c1e6f3e",
   "metadata": {},
   "source": [
    "# Analisis de componentes"
   ]
  },
  {
   "cell_type": "code",
   "execution_count": null,
   "id": "26652537-0003-45b1-bec6-07ac37038e9e",
   "metadata": {},
   "outputs": [],
   "source": []
  },
  {
   "cell_type": "code",
   "execution_count": null,
   "id": "c21a86ca-1e33-47ac-b044-5b6a13968287",
   "metadata": {},
   "outputs": [],
   "source": []
  },
  {
   "cell_type": "code",
   "execution_count": null,
   "id": "8791618e-357c-49c3-960e-6426472290cc",
   "metadata": {},
   "outputs": [],
   "source": []
  },
  {
   "cell_type": "code",
   "execution_count": null,
   "id": "2a1ecc4f-86eb-4d06-b0aa-34b06792a5ac",
   "metadata": {},
   "outputs": [],
   "source": []
  },
  {
   "cell_type": "code",
   "execution_count": null,
   "id": "9370e87b-255c-4a62-b053-d8d81ce3319a",
   "metadata": {},
   "outputs": [],
   "source": []
  },
  {
   "cell_type": "code",
   "execution_count": null,
   "id": "9713ff30-de53-4dfe-9e08-462c6eba8fdc",
   "metadata": {},
   "outputs": [],
   "source": []
  },
  {
   "cell_type": "code",
   "execution_count": null,
   "id": "6112881b-6e8d-43ee-bd3c-325986ed4196",
   "metadata": {},
   "outputs": [],
   "source": []
  }
 ],
 "metadata": {
  "kernelspec": {
   "display_name": "Python 3 (ipykernel)",
   "language": "python",
   "name": "python3"
  },
  "language_info": {
   "codemirror_mode": {
    "name": "ipython",
    "version": 3
   },
   "file_extension": ".py",
   "mimetype": "text/x-python",
   "name": "python",
   "nbconvert_exporter": "python",
   "pygments_lexer": "ipython3",
   "version": "3.12.3"
  }
 },
 "nbformat": 4,
 "nbformat_minor": 5
}
