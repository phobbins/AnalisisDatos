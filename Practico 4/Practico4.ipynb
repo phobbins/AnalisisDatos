{
 "cells": [
  {
   "cell_type": "code",
   "execution_count": 1,
   "id": "cbfd4487-3497-43ee-a157-785fcc6d1784",
   "metadata": {},
   "outputs": [],
   "source": [
    "#%% Importar librerias\n",
    "import pandas as pd\n",
    "import numpy as np\n",
    "from sklearn.decomposition import PCA\n",
    "from sklearn.preprocessing import StandardScaler\n",
    "import matplotlib.pyplot as plt\n",
    "import seaborn as sns"
   ]
  },
  {
   "cell_type": "markdown",
   "id": "5f05fdf5-f01d-4829-8e37-189749434117",
   "metadata": {},
   "source": [
    "# Carga de datos"
   ]
  },
  {
   "cell_type": "code",
   "execution_count": 2,
   "id": "b1b62cc9-6120-45de-a9ed-1d7d6a848ab3",
   "metadata": {
    "scrolled": true
   },
   "outputs": [
    {
     "name": "stdout",
     "output_type": "stream",
     "text": [
      "Las columnas son Index(['Survived', 'Pclass', 'Name', 'Sex', 'Age', 'SibSp', 'Parch', 'Ticket',\n",
      "       'Fare', 'Cabin', 'Embarked'],\n",
      "      dtype='object')\n",
      "Las forma es (891, 11)\n",
      "Los datos faltantes son Survived      0\n",
      "Pclass        0\n",
      "Name          0\n",
      "Sex           0\n",
      "Age         177\n",
      "SibSp         0\n",
      "Parch         0\n",
      "Ticket        0\n",
      "Fare          0\n",
      "Cabin       687\n",
      "Embarked      2\n",
      "dtype: int64\n"
     ]
    }
   ],
   "source": [
    "df_titanic = pd.read_csv('Titanic.csv')\n",
    "\n",
    "df_titanic = df_titanic.drop(columns = 'PassengerId')\n",
    "\n",
    "print(f\"Las columnas son {df_titanic.columns}\")\n",
    "print(f\"Las forma es {df_titanic.shape}\")\n",
    "print(f\"Los datos faltantes son {df_titanic.isnull().sum()}\")"
   ]
  },
  {
   "cell_type": "markdown",
   "id": "c49eb326-5c8e-4f84-9f82-bd17773648e4",
   "metadata": {},
   "source": [
    "# Tratamiento de datos"
   ]
  },
  {
   "cell_type": "markdown",
   "id": "8abdc39f-0991-45a1-9c51-0c1f312aeacc",
   "metadata": {},
   "source": [
    "Los datos faltantes son \n",
    "\n",
    "Age         177\n",
    "\n",
    "Cabin       687\n",
    "\n",
    "Embarked      2\n"
   ]
  },
  {
   "cell_type": "code",
   "execution_count": 3,
   "id": "27111d3f-9b6f-47ba-8730-701e92dfd6c0",
   "metadata": {},
   "outputs": [
    {
     "name": "stdout",
     "output_type": "stream",
     "text": [
      "29.69911764705882\n"
     ]
    },
    {
     "data": {
      "image/png": "[encoded data removed]",
      "text/plain": [
       "<Figure size 640x480 with 1 Axes>"
      ]
     },
     "metadata": {},
     "output_type": "display_data"
    },
    {
     "name": "stdout",
     "output_type": "stream",
     "text": [
      "[nan 'C85' 'C123' 'E46' 'G6' 'C103' 'D56' 'A6' 'C23 C25 C27' 'B78' 'D33'\n",
      " 'B30' 'C52' 'B28' 'C83' 'F33' 'F G73' 'E31' 'A5' 'D10 D12' 'D26' 'C110'\n",
      " 'B58 B60' 'E101' 'F E69' 'D47' 'B86' 'F2' 'C2' 'E33' 'B19' 'A7' 'C49'\n",
      " 'F4' 'A32' 'B4' 'B80' 'A31' 'D36' 'D15' 'C93' 'C78' 'D35' 'C87' 'B77'\n",
      " 'E67' 'B94' 'C125' 'C99' 'C118' 'D7' 'A19' 'B49' 'D' 'C22 C26' 'C106'\n",
      " 'C65' 'E36' 'C54' 'B57 B59 B63 B66' 'C7' 'E34' 'C32' 'B18' 'C124' 'C91'\n",
      " 'E40' 'T' 'C128' 'D37' 'B35' 'E50' 'C82' 'B96 B98' 'E10' 'E44' 'A34'\n",
      " 'C104' 'C111' 'C92' 'E38' 'D21' 'E12' 'E63' 'A14' 'B37' 'C30' 'D20' 'B79'\n",
      " 'E25' 'D46' 'B73' 'C95' 'B38' 'B39' 'B22' 'C86' 'C70' 'A16' 'C101' 'C68'\n",
      " 'A10' 'E68' 'B41' 'A20' 'D19' 'D50' 'D9' 'A23' 'B50' 'A26' 'D48' 'E58'\n",
      " 'C126' 'B71' 'B51 B53 B55' 'D49' 'B5' 'B20' 'F G63' 'C62 C64' 'E24' 'C90'\n",
      " 'C45' 'E8' 'B101' 'D45' 'C46' 'D30' 'E121' 'D11' 'E77' 'F38' 'B3' 'D6'\n",
      " 'B82 B84' 'D17' 'A36' 'B102' 'B69' 'E49' 'C47' 'D28' 'E17' 'A24' 'C50'\n",
      " 'B42' 'C148']\n",
      "0       0\n",
      "1     C85\n",
      "2       0\n",
      "3    C123\n",
      "4       0\n",
      "Name: Cabin, dtype: object\n",
      "['S' 'C' 'Q' '0']\n"
     ]
    }
   ],
   "source": [
    "# Decisiones sobre los datos faltantes\n",
    "print(np.mean(df_titanic['Age']))\n",
    "\n",
    "df_titanic['Age'].hist(bins=25)  # bins define el número de barras en el histograma\n",
    "plt.xlabel('Valor')\n",
    "plt.ylabel('Frecuencia')\n",
    "plt.title('Histograma de columna_ejemplo')\n",
    "plt.show()\n",
    "\n",
    "#Toma valores de cabinas/habitaciones\n",
    "print(df_titanic['Cabin'].unique())\n",
    "#Rellenamos los valores con 0 para las cabinas NaN\n",
    "df_titanic = df_titanic.fillna('0')\n",
    "print(df_titanic['Cabin'].head(5))\n",
    "\n",
    "\n",
    "# Embarked puede tomar 3 valores ['S' 'C' 'Q' nan] \n",
    "print(df_titanic['Embarked'].unique())\n",
    "#Cambiamos los NaN por D de Desconocido\n",
    "df_titanic = df_titanic['Embarked'].fillna('D')\n"
   ]
  },
  {
   "cell_type": "markdown",
   "id": "2824d898-e878-4a50-87f7-452c4c1e6f3e",
   "metadata": {},
   "source": [
    "# Analisis de componentes"
   ]
  },
  {
   "cell_type": "code",
   "execution_count": null,
   "id": "2e7fdf96-d114-48fe-b5d5-a1cb2936e1b9",
   "metadata": {},
   "outputs": [],
   "source": []
  }
 ],
 "metadata": {
  "kernelspec": {
   "display_name": "Python 3 (ipykernel)",
   "language": "python",
   "name": "python3"
  },
  "language_info": {
   "codemirror_mode": {
    "name": "ipython",
    "version": 3
   },
   "file_extension": ".py",
   "mimetype": "text/x-python",
   "name": "python",
   "nbconvert_exporter": "python",
   "pygments_lexer": "ipython3",
   "version": "3.12.3"
  }
 },
 "nbformat": 4,
 "nbformat_minor": 5
}
